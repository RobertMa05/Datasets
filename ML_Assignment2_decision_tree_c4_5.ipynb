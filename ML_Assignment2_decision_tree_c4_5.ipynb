{
  "nbformat": 4,
  "nbformat_minor": 0,
  "metadata": {
    "colab": {
      "name": "ML  Assignment2 decision_tree_c4.5.ipynb",
      "provenance": [],
      "collapsed_sections": [],
      "authorship_tag": "ABX9TyN4I4FAjKwJspN3Y2Ron83O",
      "include_colab_link": true
    },
    "kernelspec": {
      "name": "python3",
      "display_name": "Python 3"
    }
  },
  "cells": [
    {
      "cell_type": "markdown",
      "metadata": {
        "id": "view-in-github",
        "colab_type": "text"
      },
      "source": [
        "<a href=\"https://colab.research.google.com/github/ShengHangNB/Datasets/blob/master/ML_Assignment2_decision_tree_c4_5.ipynb\" target=\"_parent\"><img src=\"https://colab.research.google.com/assets/colab-badge.svg\" alt=\"Open In Colab\"/></a>"
      ]
    },
    {
      "cell_type": "markdown",
      "metadata": {
        "id": "sKWuN40coCiO"
      },
      "source": [
        "# **Machine Learning Assignment 2**\n",
        "\n",
        "\n",
        "\n",
        "\n"
      ]
    },
    {
      "cell_type": "markdown",
      "metadata": {
        "id": "RvcYr39KjqCi"
      },
      "source": [
        "## **Implementation of algorithm - Decision Tree C4.5**"
      ]
    },
    {
      "cell_type": "code",
      "metadata": {
        "id": "HnBQDxtG4q-h"
      },
      "source": [
        "import pandas as pd\n",
        "import numpy as np\n",
        "import matplotlib.pyplot as plt\n",
        "from sklearn.model_selection import train_test_split"
      ],
      "execution_count": 598,
      "outputs": []
    },
    {
      "cell_type": "code",
      "metadata": {
        "id": "LgxYpiRYCSfU",
        "outputId": "e469941f-f38e-437d-a34f-47a14a143ece",
        "colab": {
          "base_uri": "https://localhost:8080/",
          "height": 195
        }
      },
      "source": [
        "df = pd.read_csv(\"https://raw.githubusercontent.com/ShengHangNB/Datasets/master/iris.csv\")\n",
        "df.head()"
      ],
      "execution_count": 599,
      "outputs": [
        {
          "output_type": "execute_result",
          "data": {
            "text/html": [
              "<div>\n",
              "<style scoped>\n",
              "    .dataframe tbody tr th:only-of-type {\n",
              "        vertical-align: middle;\n",
              "    }\n",
              "\n",
              "    .dataframe tbody tr th {\n",
              "        vertical-align: top;\n",
              "    }\n",
              "\n",
              "    .dataframe thead th {\n",
              "        text-align: right;\n",
              "    }\n",
              "</style>\n",
              "<table border=\"1\" class=\"dataframe\">\n",
              "  <thead>\n",
              "    <tr style=\"text-align: right;\">\n",
              "      <th></th>\n",
              "      <th>sepal length</th>\n",
              "      <th>sepal width</th>\n",
              "      <th>petal length</th>\n",
              "      <th>petal width</th>\n",
              "      <th>class</th>\n",
              "    </tr>\n",
              "  </thead>\n",
              "  <tbody>\n",
              "    <tr>\n",
              "      <th>0</th>\n",
              "      <td>5.1</td>\n",
              "      <td>3.5</td>\n",
              "      <td>1.4</td>\n",
              "      <td>0.2</td>\n",
              "      <td>Iris-setosa</td>\n",
              "    </tr>\n",
              "    <tr>\n",
              "      <th>1</th>\n",
              "      <td>4.9</td>\n",
              "      <td>3.0</td>\n",
              "      <td>1.4</td>\n",
              "      <td>0.2</td>\n",
              "      <td>Iris-setosa</td>\n",
              "    </tr>\n",
              "    <tr>\n",
              "      <th>2</th>\n",
              "      <td>4.7</td>\n",
              "      <td>3.2</td>\n",
              "      <td>1.3</td>\n",
              "      <td>0.2</td>\n",
              "      <td>Iris-setosa</td>\n",
              "    </tr>\n",
              "    <tr>\n",
              "      <th>3</th>\n",
              "      <td>4.6</td>\n",
              "      <td>3.1</td>\n",
              "      <td>1.5</td>\n",
              "      <td>0.2</td>\n",
              "      <td>Iris-setosa</td>\n",
              "    </tr>\n",
              "    <tr>\n",
              "      <th>4</th>\n",
              "      <td>5.0</td>\n",
              "      <td>3.6</td>\n",
              "      <td>1.4</td>\n",
              "      <td>0.2</td>\n",
              "      <td>Iris-setosa</td>\n",
              "    </tr>\n",
              "  </tbody>\n",
              "</table>\n",
              "</div>"
            ],
            "text/plain": [
              "   sepal length  sepal width  petal length  petal width        class\n",
              "0           5.1          3.5           1.4          0.2  Iris-setosa\n",
              "1           4.9          3.0           1.4          0.2  Iris-setosa\n",
              "2           4.7          3.2           1.3          0.2  Iris-setosa\n",
              "3           4.6          3.1           1.5          0.2  Iris-setosa\n",
              "4           5.0          3.6           1.4          0.2  Iris-setosa"
            ]
          },
          "metadata": {
            "tags": []
          },
          "execution_count": 599
        }
      ]
    },
    {
      "cell_type": "code",
      "metadata": {
        "id": "KjYGEGJrDcH_",
        "outputId": "fe4e09e7-2ddd-4b67-b53d-9dec5f91914f",
        "colab": {
          "base_uri": "https://localhost:8080/",
          "height": 195
        }
      },
      "source": [
        "def change_target_type(x):\n",
        "  if x == 'Iris-setosa':\n",
        "    return 0\n",
        "\n",
        "  elif x == 'Iris-versicolor':\n",
        "    return 1\n",
        "  \n",
        "  elif x == 'Iris-virginica':\n",
        "    return 2\n",
        "\n",
        "df.loc[:,\"class\"] = df[\"class\"].apply(change_target_type)\n",
        "df.head()"
      ],
      "execution_count": 600,
      "outputs": [
        {
          "output_type": "execute_result",
          "data": {
            "text/html": [
              "<div>\n",
              "<style scoped>\n",
              "    .dataframe tbody tr th:only-of-type {\n",
              "        vertical-align: middle;\n",
              "    }\n",
              "\n",
              "    .dataframe tbody tr th {\n",
              "        vertical-align: top;\n",
              "    }\n",
              "\n",
              "    .dataframe thead th {\n",
              "        text-align: right;\n",
              "    }\n",
              "</style>\n",
              "<table border=\"1\" class=\"dataframe\">\n",
              "  <thead>\n",
              "    <tr style=\"text-align: right;\">\n",
              "      <th></th>\n",
              "      <th>sepal length</th>\n",
              "      <th>sepal width</th>\n",
              "      <th>petal length</th>\n",
              "      <th>petal width</th>\n",
              "      <th>class</th>\n",
              "    </tr>\n",
              "  </thead>\n",
              "  <tbody>\n",
              "    <tr>\n",
              "      <th>0</th>\n",
              "      <td>5.1</td>\n",
              "      <td>3.5</td>\n",
              "      <td>1.4</td>\n",
              "      <td>0.2</td>\n",
              "      <td>0</td>\n",
              "    </tr>\n",
              "    <tr>\n",
              "      <th>1</th>\n",
              "      <td>4.9</td>\n",
              "      <td>3.0</td>\n",
              "      <td>1.4</td>\n",
              "      <td>0.2</td>\n",
              "      <td>0</td>\n",
              "    </tr>\n",
              "    <tr>\n",
              "      <th>2</th>\n",
              "      <td>4.7</td>\n",
              "      <td>3.2</td>\n",
              "      <td>1.3</td>\n",
              "      <td>0.2</td>\n",
              "      <td>0</td>\n",
              "    </tr>\n",
              "    <tr>\n",
              "      <th>3</th>\n",
              "      <td>4.6</td>\n",
              "      <td>3.1</td>\n",
              "      <td>1.5</td>\n",
              "      <td>0.2</td>\n",
              "      <td>0</td>\n",
              "    </tr>\n",
              "    <tr>\n",
              "      <th>4</th>\n",
              "      <td>5.0</td>\n",
              "      <td>3.6</td>\n",
              "      <td>1.4</td>\n",
              "      <td>0.2</td>\n",
              "      <td>0</td>\n",
              "    </tr>\n",
              "  </tbody>\n",
              "</table>\n",
              "</div>"
            ],
            "text/plain": [
              "   sepal length  sepal width  petal length  petal width  class\n",
              "0           5.1          3.5           1.4          0.2      0\n",
              "1           4.9          3.0           1.4          0.2      0\n",
              "2           4.7          3.2           1.3          0.2      0\n",
              "3           4.6          3.1           1.5          0.2      0\n",
              "4           5.0          3.6           1.4          0.2      0"
            ]
          },
          "metadata": {
            "tags": []
          },
          "execution_count": 600
        }
      ]
    },
    {
      "cell_type": "code",
      "metadata": {
        "id": "SCcxiXgun2-K",
        "outputId": "07759fd8-7ad0-4d9d-eb6b-24a425243354",
        "colab": {
          "base_uri": "https://localhost:8080/",
          "height": 118
        }
      },
      "source": [
        "# check whether thare are some null values for each attribute\n",
        "df.isnull().any()"
      ],
      "execution_count": 601,
      "outputs": [
        {
          "output_type": "execute_result",
          "data": {
            "text/plain": [
              "sepal length    False\n",
              "sepal width     False\n",
              "petal length    False\n",
              "petal width     False\n",
              "class           False\n",
              "dtype: bool"
            ]
          },
          "metadata": {
            "tags": []
          },
          "execution_count": 601
        }
      ]
    },
    {
      "cell_type": "code",
      "metadata": {
        "id": "KNtdsVb4_0qq",
        "outputId": "c0694bab-d1e6-4a4d-b3fe-11e98e1518e7",
        "colab": {
          "base_uri": "https://localhost:8080/",
          "height": 218
        }
      },
      "source": [
        "# check the data type and non-null count values for each attribute\n",
        "df.info()"
      ],
      "execution_count": 602,
      "outputs": [
        {
          "output_type": "stream",
          "text": [
            "<class 'pandas.core.frame.DataFrame'>\n",
            "RangeIndex: 150 entries, 0 to 149\n",
            "Data columns (total 5 columns):\n",
            " #   Column        Non-Null Count  Dtype  \n",
            "---  ------        --------------  -----  \n",
            " 0   sepal length  150 non-null    float64\n",
            " 1   sepal width   150 non-null    float64\n",
            " 2   petal length  150 non-null    float64\n",
            " 3   petal width   150 non-null    float64\n",
            " 4   class         150 non-null    int64  \n",
            "dtypes: float64(4), int64(1)\n",
            "memory usage: 6.0 KB\n"
          ],
          "name": "stdout"
        }
      ]
    },
    {
      "cell_type": "code",
      "metadata": {
        "id": "RCA0xqVo_3A0",
        "outputId": "df71e9f1-77c4-4706-950c-94ebd4250e23",
        "colab": {
          "base_uri": "https://localhost:8080/",
          "height": 284
        }
      },
      "source": [
        "# Table of statistics for all numerical attributes:\n",
        "df.describe()"
      ],
      "execution_count": 603,
      "outputs": [
        {
          "output_type": "execute_result",
          "data": {
            "text/html": [
              "<div>\n",
              "<style scoped>\n",
              "    .dataframe tbody tr th:only-of-type {\n",
              "        vertical-align: middle;\n",
              "    }\n",
              "\n",
              "    .dataframe tbody tr th {\n",
              "        vertical-align: top;\n",
              "    }\n",
              "\n",
              "    .dataframe thead th {\n",
              "        text-align: right;\n",
              "    }\n",
              "</style>\n",
              "<table border=\"1\" class=\"dataframe\">\n",
              "  <thead>\n",
              "    <tr style=\"text-align: right;\">\n",
              "      <th></th>\n",
              "      <th>sepal length</th>\n",
              "      <th>sepal width</th>\n",
              "      <th>petal length</th>\n",
              "      <th>petal width</th>\n",
              "      <th>class</th>\n",
              "    </tr>\n",
              "  </thead>\n",
              "  <tbody>\n",
              "    <tr>\n",
              "      <th>count</th>\n",
              "      <td>150.000000</td>\n",
              "      <td>150.000000</td>\n",
              "      <td>150.000000</td>\n",
              "      <td>150.000000</td>\n",
              "      <td>150.000000</td>\n",
              "    </tr>\n",
              "    <tr>\n",
              "      <th>mean</th>\n",
              "      <td>5.843333</td>\n",
              "      <td>3.054000</td>\n",
              "      <td>3.758667</td>\n",
              "      <td>1.198667</td>\n",
              "      <td>1.000000</td>\n",
              "    </tr>\n",
              "    <tr>\n",
              "      <th>std</th>\n",
              "      <td>0.828066</td>\n",
              "      <td>0.433594</td>\n",
              "      <td>1.764420</td>\n",
              "      <td>0.763161</td>\n",
              "      <td>0.819232</td>\n",
              "    </tr>\n",
              "    <tr>\n",
              "      <th>min</th>\n",
              "      <td>4.300000</td>\n",
              "      <td>2.000000</td>\n",
              "      <td>1.000000</td>\n",
              "      <td>0.100000</td>\n",
              "      <td>0.000000</td>\n",
              "    </tr>\n",
              "    <tr>\n",
              "      <th>25%</th>\n",
              "      <td>5.100000</td>\n",
              "      <td>2.800000</td>\n",
              "      <td>1.600000</td>\n",
              "      <td>0.300000</td>\n",
              "      <td>0.000000</td>\n",
              "    </tr>\n",
              "    <tr>\n",
              "      <th>50%</th>\n",
              "      <td>5.800000</td>\n",
              "      <td>3.000000</td>\n",
              "      <td>4.350000</td>\n",
              "      <td>1.300000</td>\n",
              "      <td>1.000000</td>\n",
              "    </tr>\n",
              "    <tr>\n",
              "      <th>75%</th>\n",
              "      <td>6.400000</td>\n",
              "      <td>3.300000</td>\n",
              "      <td>5.100000</td>\n",
              "      <td>1.800000</td>\n",
              "      <td>2.000000</td>\n",
              "    </tr>\n",
              "    <tr>\n",
              "      <th>max</th>\n",
              "      <td>7.900000</td>\n",
              "      <td>4.400000</td>\n",
              "      <td>6.900000</td>\n",
              "      <td>2.500000</td>\n",
              "      <td>2.000000</td>\n",
              "    </tr>\n",
              "  </tbody>\n",
              "</table>\n",
              "</div>"
            ],
            "text/plain": [
              "       sepal length  sepal width  petal length  petal width       class\n",
              "count    150.000000   150.000000    150.000000   150.000000  150.000000\n",
              "mean       5.843333     3.054000      3.758667     1.198667    1.000000\n",
              "std        0.828066     0.433594      1.764420     0.763161    0.819232\n",
              "min        4.300000     2.000000      1.000000     0.100000    0.000000\n",
              "25%        5.100000     2.800000      1.600000     0.300000    0.000000\n",
              "50%        5.800000     3.000000      4.350000     1.300000    1.000000\n",
              "75%        6.400000     3.300000      5.100000     1.800000    2.000000\n",
              "max        7.900000     4.400000      6.900000     2.500000    2.000000"
            ]
          },
          "metadata": {
            "tags": []
          },
          "execution_count": 603
        }
      ]
    },
    {
      "cell_type": "code",
      "metadata": {
        "id": "J4f-6dOLSOfh",
        "outputId": "af4b5e6a-7c65-442a-c603-e5f41aaaa6ff",
        "colab": {
          "base_uri": "https://localhost:8080/",
          "height": 134
        }
      },
      "source": [
        "# get the attributes by using the df.keys() functions,\n",
        "# then extract all the attributes except for the target name by using the slice method df.keys()[:-1]\n",
        "attrs = df.keys()[:-1]\n",
        "print(\"The attrbutes are: \")\n",
        "for attr in attrs:\n",
        "  print(attr)\n",
        "\n",
        "print(\"\\nThe target is \",df.keys()[-1])"
      ],
      "execution_count": 604,
      "outputs": [
        {
          "output_type": "stream",
          "text": [
            "The attrbutes are: \n",
            "sepal length\n",
            "sepal width\n",
            "petal length\n",
            "petal width\n",
            "\n",
            "The target is  class\n"
          ],
          "name": "stdout"
        }
      ]
    },
    {
      "cell_type": "code",
      "metadata": {
        "id": "lmHSMxnC_7zU",
        "outputId": "4c54ec0c-a1a9-43d4-fa5c-f3f19226b29c",
        "colab": {
          "base_uri": "https://localhost:8080/",
          "height": 84
        }
      },
      "source": [
        "# split the datasets into the attributes datasets (input) and target datasets (output)\n",
        "# X: DataFrame type   y: Series type\n",
        "print(\"The number of samples in the total datasets are {}\\n\".format(df.shape[0]))\n",
        "X_total = df[attrs]\n",
        "y_total = df.iloc[:,-1]\n",
        "\n",
        "# For the features datasets,target datasets, split them into the training datasets and testing datasets respectively\n",
        "# The training datasets accounts for 67% of the total datasets,\n",
        "# The testing datasets acoounts for 33% of the total datasets\n",
        "X_train, X_test, y_train, y_test = train_test_split(X_total, y_total, test_size = 0.33,random_state = 48)\n",
        "\n",
        "\n",
        "print(\"The number of samples in the training datasets are {}\".format(X_train.shape[0]))\n",
        "print(\"The number of samples in the testing datasets are {}\".format(X_test.shape[0]))"
      ],
      "execution_count": 605,
      "outputs": [
        {
          "output_type": "stream",
          "text": [
            "The number of samples in the total datasets are 150\n",
            "\n",
            "The number of samples in the training datasets are 100\n",
            "The number of samples in the testing datasets are 50\n"
          ],
          "name": "stdout"
        }
      ]
    },
    {
      "cell_type": "code",
      "metadata": {
        "id": "S8jYKtIXeURl"
      },
      "source": [
        "class Myutils:\n",
        "  def get_split_pointSet(self,attr_series):\n",
        "    '''\n",
        "      功能:通过二分法将连续属性离散化处理\n",
        "      array: 传入的一列属性的值，series类型\n",
        "      返回值：所有划分点的集合,array类型\n",
        "    '''\n",
        "    unique_values = np.unique(attr_series)\n",
        "    result = np.array([(unique_values[i] + unique_values[i+1]) / 2  for i in range(len(unique_values)-1)])\n",
        "\n",
        "    return np.unique(result)\n",
        "    \n",
        "  def get_discrete_variables(self,X,attr,split_point):\n",
        "    '''\n",
        "      功能：将连续型变量通过分裂点转换为大于分裂点和小于分离点的离散型变量\n",
        "      X: 传入的数据集, DataFrame\n",
        "      attr: 需要分割的属性\n",
        "      split_point：划分点/分割点\n",
        "    '''\n",
        "    bins_to_cut = [min(X[attr]),split_point,max(X[attr])]\n",
        "    labels_to_cut = [attr + ' < ' + str(split_point), attr + ' > ' + str(split_point)]\n",
        "    categorized_column = pd.cut(X[attr], bins= bins_to_cut , labels = labels_to_cut, include_lowest=True)\n",
        "    return categorized_column\n",
        "\n",
        "  def compute_entropy(self,y):\n",
        "    '''\n",
        "      功能：计算信息熵H(D)\n",
        "      y: 传入的目标值series\n",
        "      返回值：float类型的计算结果\n",
        "    '''\n",
        "    if len(y) < 2:\n",
        "      return 0.0\n",
        "      \n",
        "    freq = y.value_counts(normalize=True)\n",
        "      \n",
        "    return -(freq * np.log2(freq + 1e-6)).sum()\n",
        "\n",
        "  def compute_info_gain_ratio(self,X,y,attr,split_point_list):\n",
        "    '''\n",
        "      计算连续型变量中特定属性的单个分裂点的信息增益\n",
        "        \n",
        "      X：包含属性的数据集, DataFrame类型\n",
        "      y：包含目标值的数据集, Series类型\n",
        "      attr: 要计算信息增益的属性，字符串类型\n",
        "      split_point_lst: 分割点，float类型\n",
        "        \n",
        "      返回值：信息增益率计算结果，float类型; 最优划分点：float类型\n",
        "        \n",
        "    '''\n",
        "\n",
        "    best_split_point = 0.0\n",
        "    best_info_gain = 0.0\n",
        "    split_entropy = 0.0\n",
        "\n",
        "    if len(split_point_list) == 0:\n",
        "      return 0, None\n",
        "\n",
        "    else:\n",
        "      for split_point in split_point_list:\n",
        "        lower_index_boolean = X[attr] < split_point\n",
        "        lower_X = X[lower_index_boolean]\n",
        "        lower_y = y[lower_index_boolean]\n",
        "        \n",
        "        upper_index_boolean = X[attr] > split_point\n",
        "        upper_X = X[upper_index_boolean]\n",
        "        upper_y = y[upper_index_boolean]\n",
        "        \n",
        "        Ent_D = compute_entropy(y)\n",
        "        \n",
        "        lower_p = len(lower_X) / len(X)\n",
        "        upper_p = len(upper_X) / len(X)\n",
        "\n",
        "        lowersets_entropy = lower_p * compute_entropy(lower_y)\n",
        "        uppersets_entropy = upper_p * compute_entropy(upper_y)   \n",
        "        \n",
        "        info_gain = Ent_D - (lowersets_entropy + uppersets_entropy)\n",
        "\n",
        "        categorized_column = get_discrete_variables(X,attr,split_point)\n",
        "\n",
        "        split_entropy = compute_entropy(categorized_column)\n",
        "\n",
        "        if info_gain > best_info_gain:\n",
        "          best_info_gain = info_gain\n",
        "          best_split_point = split_point\n",
        "            \n",
        "      info_gain_ratio = best_info_gain / split_entropy\n",
        "      return info_gain_ratio, best_split_point\n",
        "\n",
        "utils = Myutils()"
      ],
      "execution_count": 606,
      "outputs": []
    },
    {
      "cell_type": "code",
      "metadata": {
        "id": "UbBH2Rb-AMqC"
      },
      "source": [
        "class TreeNode:\n",
        "  def __init__(self,X,y, node_name=\"\", default_decision=None):\n",
        "    self.children = {}\n",
        "    self.split_point = 0.0\n",
        "    self.name = node_name\n",
        "    self.split_attr = None\n",
        "    self.default_decision = default_decision\n",
        "    self.decision = None\n",
        "    self.split_point_info = []\n",
        "    self.attrs_info_gain_ratio = {}\n",
        "    self.X = X\n",
        "    self.y = y\n",
        "\n",
        "  def pretty_print(self,prefix=''):\n",
        "    number = len(self.X)\n",
        "    if self.split_attr is not None:\n",
        "      for k,v in self.children.items():\n",
        "        v.pretty_print(f\"{prefix}: When {self.split_attr} is {k} ({str(number)} values)\")\n",
        "    else:\n",
        "      print(f\"{prefix}: Determining the decision -> {self.decision} ({str(number)} values)\")\n",
        "\n",
        "  def print_node_details(self):\n",
        "    time = 1\n",
        "\n",
        "    if self.split_attr is not None:\n",
        "      for k,v in self.children.items():\n",
        "        \n",
        "        if len(self.split_point_info) != 0:\n",
        "          if time != 1:\n",
        "            print(\"Back to the node: \",self.name)\n",
        "          else:\n",
        "            print(\"First view of the node: \",self.name)\n",
        "\n",
        "          print(\"The number of the samples in this node is: \", len(self.X))\n",
        "          print()\n",
        "          for i,j in self.attrs_info_gain_ratio.items():          \n",
        "            print(\"{}'s information gain ratio is: {}\".format(i,j))\n",
        "\n",
        "          print(\"\\nSplited by {}, its information gain ratio is {}, its splited points list is:\\n {}\".format(self.split_point_info[1][1],self.split_point_info[1][2],self.split_point_info[0]))\n",
        "          print(\"Among these splited points, the best splited point is {}\".format(self.split_point_info[1][0]))\n",
        "          print(\"The child node is: {}\".format(k))\n",
        "          print('--------------------------------------------------------------------')\n",
        "          time += 1\n",
        "\n",
        "          v.print_node_details()\n",
        "          \n",
        "             \n",
        "    else:\n",
        "      time += 1\n",
        "      print(\"This node is: {}, it is a leaf node\".format(self.name))\n",
        "      print(\"The number of samples is: \", len(self.X))\n",
        "      print(\"Determining the decision -> \",self.decision)\n",
        "      print('--------------------------------------------------------------------')\n",
        "\n",
        "  def make(self):\n",
        "    if self.default_decision is None:\n",
        "      self.default_decision = self.y.mode()[0]\n",
        "\n",
        "\n",
        "    if len(self.X) == 0:\n",
        "      self.decision = self.default_decision\n",
        "      # print(\"Specially determining the decision ->\", self.decision)\n",
        "      return\n",
        "\n",
        "    else:\n",
        "      target_unique_values = self.y.unique()\n",
        "      if len(target_unique_values) == 1:\n",
        "        self.decision = target_unique_values[0]\n",
        "        return\n",
        "\n",
        "      else:\n",
        "        max_infoGain_rate = 0.0\n",
        "        best_split_point = 0.0\n",
        "        best_split_point_list = []\n",
        "        for attr in self.X.keys():\n",
        "          split_point_list = utils.get_split_pointSet(self.X[attr])\n",
        "          if len(split_point_list) == 0:\n",
        "            # No split point here, which means that this attritbue has only one type of value\n",
        "            continue\n",
        "\n",
        "          else:\n",
        "            infoGain_rate,splited_point = utils.compute_info_gain_ratio(self.X, self.y, attr, split_point_list)\n",
        "            self.attrs_info_gain_ratio[attr] = infoGain_rate\n",
        "            if infoGain_rate > max_infoGain_rate:\n",
        "              max_infoGain_rate = infoGain_rate\n",
        "              self.split_attr = attr\n",
        "              best_split_point_list = split_point_list\n",
        "              best_split_point = splited_point\n",
        "\n",
        "        self.split_point_info.append(list(best_split_point_list))\n",
        "        self.split_point_info.append([best_split_point,self.split_attr,max_infoGain_rate])\n",
        "        self.split_point = best_split_point\n",
        "\n",
        "        if self.split_point != 0.0:\n",
        "\n",
        "          X_copy = self.X.copy()\n",
        "          discrete_class = self.split_attr + '-group'\n",
        "          X_copy.loc[:,discrete_class] = utils.get_discrete_variables(X_copy,self.split_attr,self.split_point)\n",
        "          \n",
        "          for value in X_copy[discrete_class].unique():\n",
        "            index_boolean = X_copy[discrete_class] == value\n",
        "            self.children[value] = TreeNode(\n",
        "                              self.X[index_boolean],\n",
        "                              self.y[index_boolean],\n",
        "                              node_name = value,\n",
        "                              default_decision=self.default_decision,)\n",
        "            \n",
        "            self.children[value].make()\n",
        "        \n",
        "        else:\n",
        "          y_mode = self.y.mode()\n",
        "\n",
        "          if len(y_mode) == 1:\n",
        "            better_decision = y_mode[0]\n",
        "            self.decision = better_decision\n",
        "\n",
        "          else:\n",
        "            decision = y_mode[0]\n",
        "            print(\"Issues happen!\")\n",
        "            print(\"These samples have the same Input values but different target values\")\n",
        "            print(\"Input values: \")\n",
        "            print(self.X)\n",
        "            print(\"Target values: \")\n",
        "            print(self.y)\n",
        "            print(\"Just make a decision -> \", decision)\n",
        "            print(\"------------------------------------------------------------------------------------------------------------\")\n",
        "            self.decision = decision\n",
        "          return\n"
      ],
      "execution_count": 607,
      "outputs": []
    },
    {
      "cell_type": "code",
      "metadata": {
        "id": "E4cbT3UYATvx"
      },
      "source": [
        "class TreeC4_5:\n",
        "  def __init__(self,X_values,y_values):\n",
        "    self.root = None\n",
        "    self.X = X_values\n",
        "    self.y = y_values\n",
        "\n",
        "  def fit(self):\n",
        "    self.root = TreeNode(self.X,self.y, node_name=\"Root node\")\n",
        "    self.root.make()\n",
        "\n",
        "  def predict(self,samples):\n",
        "    decision_list = []\n",
        "    for sample_index in range(len(samples)):\n",
        "      sample = samples.iloc[sample_index]\n",
        "      decision = self.make_decision(sample) \n",
        "      decision_list.append(decision)\n",
        "    return np.array(decision_list)\n",
        "\n",
        "  def make_decision(self,sample):\n",
        "    current_node = self.root\n",
        "    while current_node.decision is None:\n",
        "      attribute_to_split = current_node.split_attr\n",
        "      attribute_value = sample[attribute_to_split]\n",
        "      \n",
        "      if attribute_value > current_node.split_point:\n",
        "        next_attr = current_node.split_attr + ' > ' + str(current_node.split_point)\n",
        "      \n",
        "      else:\n",
        "        next_attr = current_node.split_attr + ' < ' + str(current_node.split_point)\n",
        "          \n",
        "      current_node = current_node.children[next_attr]\n",
        "\n",
        "    return current_node.decision"
      ],
      "execution_count": 608,
      "outputs": []
    },
    {
      "cell_type": "code",
      "metadata": {
        "id": "axVJ-bjJAVrr"
      },
      "source": [
        "dtc4_5 = TreeC4_5(X_train,y_train)\n",
        "dtc4_5.fit()"
      ],
      "execution_count": 609,
      "outputs": []
    },
    {
      "cell_type": "code",
      "metadata": {
        "id": "lvFrdQZerWl-",
        "outputId": "c62024e5-f512-42d0-fca9-15933362b025",
        "colab": {
          "base_uri": "https://localhost:8080/",
          "height": 171
        }
      },
      "source": [
        "dtc4_5.root.pretty_print('Brief node splited information')"
      ],
      "execution_count": 610,
      "outputs": [
        {
          "output_type": "stream",
          "text": [
            "Brief node splited information: When petal length is petal length < 2.45 (100 values): Determining the decision -> 0 (37 values)\n",
            "Brief node splited information: When petal length is petal length > 2.45 (100 values): When petal length is petal length < 4.85 (63 values): When petal width is petal width < 1.65 (31 values): Determining the decision -> 1 (30 values)\n",
            "Brief node splited information: When petal length is petal length > 2.45 (100 values): When petal length is petal length < 4.85 (63 values): When petal width is petal width > 1.65 (31 values): Determining the decision -> 2 (1 values)\n",
            "Brief node splited information: When petal length is petal length > 2.45 (100 values): When petal length is petal length > 4.85 (63 values): When petal length is petal length < 5.15 (32 values): When petal width is petal width > 1.7000000000000002 (11 values): Determining the decision -> 2 (7 values)\n",
            "Brief node splited information: When petal length is petal length > 2.45 (100 values): When petal length is petal length > 4.85 (63 values): When petal length is petal length < 5.15 (32 values): When petal width is petal width < 1.7000000000000002 (11 values): When sepal length is sepal length < 6.6 (4 values): When petal width is petal width < 1.55 (3 values): Determining the decision -> 2 (2 values)\n",
            "Brief node splited information: When petal length is petal length > 2.45 (100 values): When petal length is petal length > 4.85 (63 values): When petal length is petal length < 5.15 (32 values): When petal width is petal width < 1.7000000000000002 (11 values): When sepal length is sepal length < 6.6 (4 values): When petal width is petal width > 1.55 (3 values): Determining the decision -> 1 (1 values)\n",
            "Brief node splited information: When petal length is petal length > 2.45 (100 values): When petal length is petal length > 4.85 (63 values): When petal length is petal length < 5.15 (32 values): When petal width is petal width < 1.7000000000000002 (11 values): When sepal length is sepal length > 6.6 (4 values): Determining the decision -> 1 (1 values)\n",
            "Brief node splited information: When petal length is petal length > 2.45 (100 values): When petal length is petal length > 4.85 (63 values): When petal length is petal length > 5.15 (32 values): Determining the decision -> 2 (21 values)\n"
          ],
          "name": "stdout"
        }
      ]
    },
    {
      "cell_type": "code",
      "metadata": {
        "id": "U2C3m1mjho4P",
        "outputId": "2d2766fe-76f1-48de-cd99-756d360cbeee",
        "colab": {
          "base_uri": "https://localhost:8080/",
          "height": 1000
        }
      },
      "source": [
        "dtc4_5.root.print_node_details()"
      ],
      "execution_count": 611,
      "outputs": [
        {
          "output_type": "stream",
          "text": [
            "First view of the node:  Root node\n",
            "The number of the samples in this node is:  100\n",
            "\n",
            "sepal length's information gain ratio is: 6.8934238847206615\n",
            "sepal width's information gain ratio is: 4.3838465045386945\n",
            "petal length's information gain ratio is: 11.767139096485085\n",
            "petal width's information gain ratio is: 4.890555797161814\n",
            "\n",
            "Splited by petal length, its information gain ratio is 11.767139096485085, its splited points list is:\n",
            " [1.05, 1.15, 1.25, 1.35, 1.45, 1.55, 1.65, 1.7999999999999998, 2.45, 3.15, 3.4, 3.55, 3.6500000000000004, 3.75, 3.8499999999999996, 3.95, 4.05, 4.15, 4.25, 4.35, 4.45, 4.55, 4.65, 4.75, 4.85, 4.95, 5.05, 5.15, 5.25, 5.35, 5.45, 5.55, 5.65, 5.75, 5.85, 5.95, 6.05, 6.199999999999999, 6.35, 6.5, 6.65, 6.800000000000001]\n",
            "Among these splited points, the best splited point is 2.45\n",
            "The child node is: petal length < 2.45\n",
            "--------------------------------------------------------------------\n",
            "This node is: petal length < 2.45, it is a leaf node\n",
            "The number of samples is:  37\n",
            "Determining the decision ->  0\n",
            "--------------------------------------------------------------------\n",
            "Back to the node:  Root node\n",
            "The number of the samples in this node is:  100\n",
            "\n",
            "sepal length's information gain ratio is: 6.8934238847206615\n",
            "sepal width's information gain ratio is: 4.3838465045386945\n",
            "petal length's information gain ratio is: 11.767139096485085\n",
            "petal width's information gain ratio is: 4.890555797161814\n",
            "\n",
            "Splited by petal length, its information gain ratio is 11.767139096485085, its splited points list is:\n",
            " [1.05, 1.15, 1.25, 1.35, 1.45, 1.55, 1.65, 1.7999999999999998, 2.45, 3.15, 3.4, 3.55, 3.6500000000000004, 3.75, 3.8499999999999996, 3.95, 4.05, 4.15, 4.25, 4.35, 4.45, 4.55, 4.65, 4.75, 4.85, 4.95, 5.05, 5.15, 5.25, 5.35, 5.45, 5.55, 5.65, 5.75, 5.85, 5.95, 6.05, 6.199999999999999, 6.35, 6.5, 6.65, 6.800000000000001]\n",
            "Among these splited points, the best splited point is 2.45\n",
            "The child node is: petal length > 2.45\n",
            "--------------------------------------------------------------------\n",
            "First view of the node:  petal length > 2.45\n",
            "The number of the samples in this node is:  63\n",
            "\n",
            "sepal length's information gain ratio is: 1.7967449890554819\n",
            "sepal width's information gain ratio is: 0.41212185864780204\n",
            "petal length's information gain ratio is: 6.18522603262534\n",
            "petal width's information gain ratio is: 2.9893322997904095\n",
            "\n",
            "Splited by petal length, its information gain ratio is 6.18522603262534, its splited points list is:\n",
            " [3.15, 3.4, 3.55, 3.6500000000000004, 3.75, 3.8499999999999996, 3.95, 4.05, 4.15, 4.25, 4.35, 4.45, 4.55, 4.65, 4.75, 4.85, 4.95, 5.05, 5.15, 5.25, 5.35, 5.45, 5.55, 5.65, 5.75, 5.85, 5.95, 6.05, 6.199999999999999, 6.35, 6.5, 6.65, 6.800000000000001]\n",
            "Among these splited points, the best splited point is 4.85\n",
            "The child node is: petal length < 4.85\n",
            "--------------------------------------------------------------------\n",
            "First view of the node:  petal length < 4.85\n",
            "The number of the samples in this node is:  31\n",
            "\n",
            "sepal length's information gain ratio is: 0.6861972293316717\n",
            "sepal width's information gain ratio is: 0.31770447313795847\n",
            "petal length's information gain ratio is: 0.22084994120713713\n",
            "petal width's information gain ratio is: 1.0000067909837755\n",
            "\n",
            "Splited by petal width, its information gain ratio is 1.0000067909837755, its splited points list is:\n",
            " [1.05, 1.15, 1.25, 1.35, 1.45, 1.55, 1.65]\n",
            "Among these splited points, the best splited point is 1.65\n",
            "The child node is: petal width < 1.65\n",
            "--------------------------------------------------------------------\n",
            "This node is: petal width < 1.65, it is a leaf node\n",
            "The number of samples is:  30\n",
            "Determining the decision ->  1\n",
            "--------------------------------------------------------------------\n",
            "Back to the node:  petal length < 4.85\n",
            "The number of the samples in this node is:  31\n",
            "\n",
            "sepal length's information gain ratio is: 0.6861972293316717\n",
            "sepal width's information gain ratio is: 0.31770447313795847\n",
            "petal length's information gain ratio is: 0.22084994120713713\n",
            "petal width's information gain ratio is: 1.0000067909837755\n",
            "\n",
            "Splited by petal width, its information gain ratio is 1.0000067909837755, its splited points list is:\n",
            " [1.05, 1.15, 1.25, 1.35, 1.45, 1.55, 1.65]\n",
            "Among these splited points, the best splited point is 1.65\n",
            "The child node is: petal width > 1.65\n",
            "--------------------------------------------------------------------\n",
            "This node is: petal width > 1.65, it is a leaf node\n",
            "The number of samples is:  1\n",
            "Determining the decision ->  2\n",
            "--------------------------------------------------------------------\n",
            "Back to the node:  petal length > 2.45\n",
            "The number of the samples in this node is:  63\n",
            "\n",
            "sepal length's information gain ratio is: 1.7967449890554819\n",
            "sepal width's information gain ratio is: 0.41212185864780204\n",
            "petal length's information gain ratio is: 6.18522603262534\n",
            "petal width's information gain ratio is: 2.9893322997904095\n",
            "\n",
            "Splited by petal length, its information gain ratio is 6.18522603262534, its splited points list is:\n",
            " [3.15, 3.4, 3.55, 3.6500000000000004, 3.75, 3.8499999999999996, 3.95, 4.05, 4.15, 4.25, 4.35, 4.45, 4.55, 4.65, 4.75, 4.85, 4.95, 5.05, 5.15, 5.25, 5.35, 5.45, 5.55, 5.65, 5.75, 5.85, 5.95, 6.05, 6.199999999999999, 6.35, 6.5, 6.65, 6.800000000000001]\n",
            "Among these splited points, the best splited point is 4.85\n",
            "The child node is: petal length > 4.85\n",
            "--------------------------------------------------------------------\n",
            "First view of the node:  petal length > 4.85\n",
            "The number of the samples in this node is:  32\n",
            "\n",
            "sepal length's information gain ratio is: 0.15421144535974526\n",
            "sepal width's information gain ratio is: 0.11507986866918489\n",
            "petal length's information gain ratio is: 0.5091775161174914\n",
            "petal width's information gain ratio is: 0.4729493516260717\n",
            "\n",
            "Splited by petal length, its information gain ratio is 0.5091775161174914, its splited points list is:\n",
            " [4.95, 5.05, 5.15, 5.25, 5.35, 5.45, 5.55, 5.65, 5.75, 5.85, 5.95, 6.05, 6.199999999999999, 6.35, 6.5, 6.65, 6.800000000000001]\n",
            "Among these splited points, the best splited point is 5.15\n",
            "The child node is: petal length < 5.15\n",
            "--------------------------------------------------------------------\n",
            "First view of the node:  petal length < 5.15\n",
            "The number of the samples in this node is:  11\n",
            "\n",
            "sepal length's information gain ratio is: 0.19703561801967828\n",
            "sepal width's information gain ratio is: 0.13744547047537295\n",
            "petal length's information gain ratio is: 0.09100698952932562\n",
            "petal width's information gain ratio is: 0.7290226485510158\n",
            "\n",
            "Splited by petal width, its information gain ratio is 0.7290226485510158, its splited points list is:\n",
            " [1.55, 1.7000000000000002, 1.85, 1.95, 2.15, 2.3499999999999996]\n",
            "Among these splited points, the best splited point is 1.7000000000000002\n",
            "The child node is: petal width > 1.7000000000000002\n",
            "--------------------------------------------------------------------\n",
            "This node is: petal width > 1.7000000000000002, it is a leaf node\n",
            "The number of samples is:  7\n",
            "Determining the decision ->  2\n",
            "--------------------------------------------------------------------\n",
            "Back to the node:  petal length < 5.15\n",
            "The number of the samples in this node is:  11\n",
            "\n",
            "sepal length's information gain ratio is: 0.19703561801967828\n",
            "sepal width's information gain ratio is: 0.13744547047537295\n",
            "petal length's information gain ratio is: 0.09100698952932562\n",
            "petal width's information gain ratio is: 0.7290226485510158\n",
            "\n",
            "Splited by petal width, its information gain ratio is 0.7290226485510158, its splited points list is:\n",
            " [1.55, 1.7000000000000002, 1.85, 1.95, 2.15, 2.3499999999999996]\n",
            "Among these splited points, the best splited point is 1.7000000000000002\n",
            "The child node is: petal width < 1.7000000000000002\n",
            "--------------------------------------------------------------------\n",
            "First view of the node:  petal width < 1.7000000000000002\n",
            "The number of the samples in this node is:  4\n",
            "\n",
            "sepal length's information gain ratio is: 0.38368902207317696\n",
            "sepal width's information gain ratio is: 0.38368902207317696\n",
            "petal length's information gain ratio is: 0.3112783012704882\n",
            "petal width's information gain ratio is: 0.38368902207317696\n",
            "\n",
            "Splited by sepal length, its information gain ratio is 0.38368902207317696, its splited points list is:\n",
            " [6.15, 6.6]\n",
            "Among these splited points, the best splited point is 6.6\n",
            "The child node is: sepal length < 6.6\n",
            "--------------------------------------------------------------------\n",
            "First view of the node:  sepal length < 6.6\n",
            "The number of the samples in this node is:  3\n",
            "\n",
            "sepal length's information gain ratio is: 0.2740173557441963\n",
            "sepal width's information gain ratio is: 0.2740173557441963\n",
            "petal length's information gain ratio is: 0.2740173557441963\n",
            "petal width's information gain ratio is: 1.0000010473740588\n",
            "\n",
            "Splited by petal width, its information gain ratio is 1.0000010473740588, its splited points list is:\n",
            " [1.55]\n",
            "Among these splited points, the best splited point is 1.55\n",
            "The child node is: petal width < 1.55\n",
            "--------------------------------------------------------------------\n",
            "This node is: petal width < 1.55, it is a leaf node\n",
            "The number of samples is:  2\n",
            "Determining the decision ->  2\n",
            "--------------------------------------------------------------------\n",
            "Back to the node:  sepal length < 6.6\n",
            "The number of the samples in this node is:  3\n",
            "\n",
            "sepal length's information gain ratio is: 0.2740173557441963\n",
            "sepal width's information gain ratio is: 0.2740173557441963\n",
            "petal length's information gain ratio is: 0.2740173557441963\n",
            "petal width's information gain ratio is: 1.0000010473740588\n",
            "\n",
            "Splited by petal width, its information gain ratio is 1.0000010473740588, its splited points list is:\n",
            " [1.55]\n",
            "Among these splited points, the best splited point is 1.55\n",
            "The child node is: petal width > 1.55\n",
            "--------------------------------------------------------------------\n",
            "This node is: petal width > 1.55, it is a leaf node\n",
            "The number of samples is:  1\n",
            "Determining the decision ->  1\n",
            "--------------------------------------------------------------------\n",
            "Back to the node:  petal width < 1.7000000000000002\n",
            "The number of the samples in this node is:  4\n",
            "\n",
            "sepal length's information gain ratio is: 0.38368902207317696\n",
            "sepal width's information gain ratio is: 0.38368902207317696\n",
            "petal length's information gain ratio is: 0.3112783012704882\n",
            "petal width's information gain ratio is: 0.38368902207317696\n",
            "\n",
            "Splited by sepal length, its information gain ratio is 0.38368902207317696, its splited points list is:\n",
            " [6.15, 6.6]\n",
            "Among these splited points, the best splited point is 6.6\n",
            "The child node is: sepal length > 6.6\n",
            "--------------------------------------------------------------------\n",
            "This node is: sepal length > 6.6, it is a leaf node\n",
            "The number of samples is:  1\n",
            "Determining the decision ->  1\n",
            "--------------------------------------------------------------------\n",
            "Back to the node:  petal length > 4.85\n",
            "The number of the samples in this node is:  32\n",
            "\n",
            "sepal length's information gain ratio is: 0.15421144535974526\n",
            "sepal width's information gain ratio is: 0.11507986866918489\n",
            "petal length's information gain ratio is: 0.5091775161174914\n",
            "petal width's information gain ratio is: 0.4729493516260717\n",
            "\n",
            "Splited by petal length, its information gain ratio is 0.5091775161174914, its splited points list is:\n",
            " [4.95, 5.05, 5.15, 5.25, 5.35, 5.45, 5.55, 5.65, 5.75, 5.85, 5.95, 6.05, 6.199999999999999, 6.35, 6.5, 6.65, 6.800000000000001]\n",
            "Among these splited points, the best splited point is 5.15\n",
            "The child node is: petal length > 5.15\n",
            "--------------------------------------------------------------------\n",
            "This node is: petal length > 5.15, it is a leaf node\n",
            "The number of samples is:  21\n",
            "Determining the decision ->  2\n",
            "--------------------------------------------------------------------\n"
          ],
          "name": "stdout"
        }
      ]
    },
    {
      "cell_type": "code",
      "metadata": {
        "id": "jP0Ruz2yAXmi",
        "outputId": "b48c2eed-2d48-4b35-82c7-d1e59103bf6c",
        "colab": {
          "base_uri": "https://localhost:8080/",
          "height": 34
        }
      },
      "source": [
        "decisions = dtc4_5.predict(X_test)\n",
        "results = decisions == y_test\n",
        "accuracy = sum(results) / len(results)\n",
        "print(\"My model's accuracy is: \", accuracy)"
      ],
      "execution_count": 612,
      "outputs": [
        {
          "output_type": "stream",
          "text": [
            "My model's accuracy is:  0.96\n"
          ],
          "name": "stdout"
        }
      ]
    },
    {
      "cell_type": "code",
      "metadata": {
        "id": "qRYFgiC3LvQ4",
        "outputId": "4319aba9-ce17-4e94-b71b-7eb7207a62f1",
        "colab": {
          "base_uri": "https://localhost:8080/",
          "height": 50
        }
      },
      "source": [
        "in_errs = []\n",
        "out_errs = []\n",
        "train_size = 0.66\n",
        "for random_seed in range(10):\n",
        "    # Randomly split training/test data\n",
        "    X_trn, X_val, y_trn, y_val = train_test_split(\n",
        "        X_total, y_total, train_size=train_size, random_state=random_seed)\n",
        "    \n",
        "    # Re-make a data model in each experiment\n",
        "    dt = TreeC4_5(X_trn,y_trn)\n",
        "    dt.fit() \n",
        "    \n",
        "    # append the in/out error rates to the corresponding book-keeping\n",
        "    in_sample_error_rate = np.sum((dt.predict(X_trn) != y_trn)) / len(y_trn)\n",
        "    out_sample_error_rate = np.sum((dt.predict(X_val) != y_val)) / len(y_trn)\n",
        "    # arrays\n",
        "    # in_errs.append(\"Insert your code here\")\n",
        "    in_errs.append(in_sample_error_rate)\n",
        "    # out_errs.append(\"Insert your code here\")\n",
        "    out_errs.append(out_sample_error_rate)\n",
        "\n",
        "in_errs = np.array(in_errs)\n",
        "out_errs = np.array(out_errs)\n",
        "print(f\"in_errs: mean {in_errs.mean():.2f}, std {in_errs.std():.2f}\")\n",
        "print(f\"out_errs: mean {out_errs.mean():.2f}, std {out_errs.std():.2f}\")"
      ],
      "execution_count": 613,
      "outputs": [
        {
          "output_type": "stream",
          "text": [
            "in_errs: mean 0.00, std 0.00\n",
            "out_errs: mean 0.03, std 0.02\n"
          ],
          "name": "stdout"
        }
      ]
    },
    {
      "cell_type": "code",
      "metadata": {
        "id": "2sKtBD2X7hgO",
        "outputId": "cd48b175-db18-4286-f69d-d3b5f9d9f193",
        "colab": {
          "base_uri": "https://localhost:8080/",
          "height": 520
        }
      },
      "source": [
        "separated_attr_X_total = X_total.iloc[:,[0,2]]\n",
        "\n",
        "separated_X_train = X_train.iloc[:,[0,2]]\n",
        "dt = TreeC4_5(separated_X_train,y_train)\n",
        "\n",
        "dt.fit()\n",
        "\n",
        "x_min, x_max = separated_attr_X_total.iloc[:, 0].min() - 1, separated_attr_X_total.iloc[:, 0].max() + 1\n",
        "y_min, y_max = separated_attr_X_total.iloc[:, 1].min() - 1, separated_attr_X_total.iloc[:, 1].max() + 1\n",
        "xx, yy = np.meshgrid(np.arange(x_min, x_max, 0.1), np.arange(y_min, y_max, 0.1))\n",
        "\n",
        "separeted_attribute1 = separated_X_train.keys()[0]\n",
        "separeted_attribute2 = separated_X_train.keys()[1]\n",
        "\n",
        "separated_X_test = pd.DataFrame({separeted_attribute1: xx.ravel(), separeted_attribute2: yy.ravel()})\n",
        "\n",
        "Z = np.array(dt.predict(separated_X_test))\n",
        "\n",
        "Z = Z.reshape(xx.shape)\n",
        "plt.figure(figsize=(16,8))\n",
        "plt.title(\"Performance of my decision tree C4.5 model\", fontdict={\"fontsize\":15})\n",
        "plt.xlabel(separeted_attribute1, fontsize=15)\n",
        "plt.ylabel(separeted_attribute2, fontsize=15)\n",
        "plt.contourf(xx, yy, Z,alpha=0.4)\n",
        "plt.scatter(separated_attr_X_total.iloc[:, 0], separated_attr_X_total.iloc[:, 1], c = y_total)\n",
        "plt.show()"
      ],
      "execution_count": 614,
      "outputs": [
        {
          "output_type": "display_data",
          "data": {
            "image/png": "[encoded data removed]",
            "text/plain": [
              "<Figure size 1152x576 with 1 Axes>"
            ]
          },
          "metadata": {
            "tags": [],
            "needs_background": "light"
          }
        }
      ]
    },
    {
      "cell_type": "markdown",
      "metadata": {
        "id": "qnlfkiIEichC"
      },
      "source": [
        "## **Comparison with the Decision Tree Model in sklearn library**\n",
        "\n",
        "\n"
      ]
    },
    {
      "cell_type": "code",
      "metadata": {
        "id": "pUAZLvv0YuL_",
        "outputId": "53c31475-5b6a-430d-8f1e-62e7f8f033a7",
        "colab": {
          "base_uri": "https://localhost:8080/",
          "height": 34
        }
      },
      "source": [
        "from sklearn import tree \n",
        "import graphviz   \n",
        "\n",
        "clf = tree.DecisionTreeClassifier(criterion=\"entropy\",random_state=35)\n",
        "clf = clf.fit(X_train,y_train)\n",
        "decisions = clf.predict(X_test)\n",
        "result = [decision == target for decision,target in zip(decisions,y_test)]\n",
        "accuracy = sum(result)/len(result)\n",
        "print(\"sklearn decision tree model's accuracy is:\",accuracy)"
      ],
      "execution_count": 578,
      "outputs": [
        {
          "output_type": "stream",
          "text": [
            "sklearn decision tree model's accuracy is: 0.94\n"
          ],
          "name": "stdout"
        }
      ]
    },
    {
      "cell_type": "code",
      "metadata": {
        "id": "oLORK-q-KVot",
        "outputId": "9e412939-dbf5-40ba-b47b-5ce350f95ade",
        "colab": {
          "base_uri": "https://localhost:8080/",
          "height": 50
        }
      },
      "source": [
        "in_errs = []\n",
        "out_errs = []\n",
        "train_size = 0.66\n",
        "for random_seed in range(10):\n",
        "    # Randomly split training/test data\n",
        "    X_trn, X_val, y_trn, y_val = train_test_split(\n",
        "        X_total, y_total, train_size=train_size, random_state=random_seed)\n",
        "    \n",
        "    # Re-make a data model in each experiment\n",
        "    dt = tree.DecisionTreeClassifier(criterion=\"entropy\")\n",
        "    dt.fit(X_trn, y_trn) \n",
        "    \n",
        "    # append the in/out error rates to the corresponding book-keeping\n",
        "    in_sample_error_rate = np.sum((dt.predict(X_trn) != y_trn)) / len(y_trn)\n",
        "    out_sample_error_rate = np.sum((dt.predict(X_val) != y_val)) / len(y_trn)\n",
        "    # arrays\n",
        "    # in_errs.append(\"Insert your code here\")\n",
        "    in_errs.append(in_sample_error_rate)\n",
        "    # out_errs.append(\"Insert your code here\")\n",
        "    out_errs.append(out_sample_error_rate)\n",
        "\n",
        "in_errs = np.array(in_errs)\n",
        "out_errs = np.array(out_errs)\n",
        "print(f\"in_errs: mean {in_errs.mean():.2f}, std {in_errs.std():.2f}\")\n",
        "print(f\"out_errs: mean {out_errs.mean():.2f}, std {out_errs.std():.2f}\")"
      ],
      "execution_count": 579,
      "outputs": [
        {
          "output_type": "stream",
          "text": [
            "in_errs: mean 0.00, std 0.00\n",
            "out_errs: mean 0.03, std 0.01\n"
          ],
          "name": "stdout"
        }
      ]
    },
    {
      "cell_type": "code",
      "metadata": {
        "id": "cEiYQHeKWUV1",
        "outputId": "a70fda70-7a47-4b40-f560-76593dd0c4d8",
        "colab": {
          "base_uri": "https://localhost:8080/",
          "height": 656
        }
      },
      "source": [
        "dot_data = tree.export_graphviz(clf,out_file=None,feature_names=list(X_train.columns.values),filled=True,rounded=True,special_characters=True)\n",
        "graphOfTree = graphviz.Source(dot_data)\n",
        "graphOfTree"
      ],
      "execution_count": 580,
      "outputs": [
        {
          "output_type": "execute_result",
          "data": {
            "text/plain": [
              "<graphviz.files.Source at 0x7f9552349048>"
            ],
            "image/svg+xml": "<?xml version=\"1.0\" encoding=\"UTF-8\" standalone=\"no\"?>\n<!DOCTYPE svg PUBLIC \"-//W3C//DTD SVG 1.1//EN\"\n \"http://www.w3.org/Graphics/SVG/1.1/DTD/svg11.dtd\">\n<!-- Generated by graphviz version 2.40.1 (20161225.0304)\n -->\n<!-- Title: Tree Pages: 1 -->\n<svg width=\"350pt\" height=\"477pt\"\n viewBox=\"0.00 0.00 350.00 477.00\" xmlns=\"http://www.w3.org/2000/svg\" xmlns:xlink=\"http://www.w3.org/1999/xlink\">\n<g id=\"graph0\" class=\"graph\" transform=\"scale(1 1) rotate(0) translate(4 473)\">\n<title>Tree</title>\n<polygon fill=\"#ffffff\" stroke=\"transparent\" points=\"-4,4 -4,-473 346,-473 346,4 -4,4\"/>\n<!-- 0 -->\n<g id=\"node1\" class=\"node\">\n<title>0</title>\n<path fill=\"#fdf6f0\" stroke=\"#000000\" d=\"M192.5,-469C192.5,-469 76.5,-469 76.5,-469 70.5,-469 64.5,-463 64.5,-457 64.5,-457 64.5,-413 64.5,-413 64.5,-407 70.5,-401 76.5,-401 76.5,-401 192.5,-401 192.5,-401 198.5,-401 204.5,-407 204.5,-413 204.5,-413 204.5,-457 204.5,-457 204.5,-463 198.5,-469 192.5,-469\"/>\n<text text-anchor=\"start\" x=\"82\" y=\"-453.8\" font-family=\"Helvetica,sans-Serif\" font-size=\"14.00\" fill=\"#000000\">petal width ≤ 0.8</text>\n<text text-anchor=\"start\" x=\"83.5\" y=\"-438.8\" font-family=\"Helvetica,sans-Serif\" font-size=\"14.00\" fill=\"#000000\">entropy = 1.581</text>\n<text text-anchor=\"start\" x=\"86.5\" y=\"-423.8\" font-family=\"Helvetica,sans-Serif\" font-size=\"14.00\" fill=\"#000000\">samples = 100</text>\n<text text-anchor=\"start\" x=\"72.5\" y=\"-408.8\" font-family=\"Helvetica,sans-Serif\" font-size=\"14.00\" fill=\"#000000\">value = [37, 32, 31]</text>\n</g>\n<!-- 1 -->\n<g id=\"node2\" class=\"node\">\n<title>1</title>\n<path fill=\"#e58139\" stroke=\"#000000\" d=\"M112,-357.5C112,-357.5 13,-357.5 13,-357.5 7,-357.5 1,-351.5 1,-345.5 1,-345.5 1,-316.5 1,-316.5 1,-310.5 7,-304.5 13,-304.5 13,-304.5 112,-304.5 112,-304.5 118,-304.5 124,-310.5 124,-316.5 124,-316.5 124,-345.5 124,-345.5 124,-351.5 118,-357.5 112,-357.5\"/>\n<text text-anchor=\"start\" x=\"20\" y=\"-342.3\" font-family=\"Helvetica,sans-Serif\" font-size=\"14.00\" fill=\"#000000\">entropy = 0.0</text>\n<text text-anchor=\"start\" x=\"18.5\" y=\"-327.3\" font-family=\"Helvetica,sans-Serif\" font-size=\"14.00\" fill=\"#000000\">samples = 37</text>\n<text text-anchor=\"start\" x=\"9\" y=\"-312.3\" font-family=\"Helvetica,sans-Serif\" font-size=\"14.00\" fill=\"#000000\">value = [37, 0, 0]</text>\n</g>\n<!-- 0&#45;&gt;1 -->\n<g id=\"edge1\" class=\"edge\">\n<title>0&#45;&gt;1</title>\n<path fill=\"none\" stroke=\"#000000\" d=\"M110.9245,-400.9465C103.1463,-389.7113 94.4861,-377.2021 86.6645,-365.9043\"/>\n<polygon fill=\"#000000\" stroke=\"#000000\" points=\"89.4452,-363.7719 80.8753,-357.5422 83.6898,-367.7564 89.4452,-363.7719\"/>\n<text text-anchor=\"middle\" x=\"76.4032\" y=\"-378.4389\" font-family=\"Helvetica,sans-Serif\" font-size=\"14.00\" fill=\"#000000\">True</text>\n</g>\n<!-- 2 -->\n<g id=\"node3\" class=\"node\">\n<title>2</title>\n<path fill=\"#f9fefb\" stroke=\"#000000\" d=\"M261,-365C261,-365 154,-365 154,-365 148,-365 142,-359 142,-353 142,-353 142,-309 142,-309 142,-303 148,-297 154,-297 154,-297 261,-297 261,-297 267,-297 273,-303 273,-309 273,-309 273,-353 273,-353 273,-359 267,-365 261,-365\"/>\n<text text-anchor=\"start\" x=\"151\" y=\"-349.8\" font-family=\"Helvetica,sans-Serif\" font-size=\"14.00\" fill=\"#000000\">petal width ≤ 1.65</text>\n<text text-anchor=\"start\" x=\"165\" y=\"-334.8\" font-family=\"Helvetica,sans-Serif\" font-size=\"14.00\" fill=\"#000000\">entropy = 1.0</text>\n<text text-anchor=\"start\" x=\"163.5\" y=\"-319.8\" font-family=\"Helvetica,sans-Serif\" font-size=\"14.00\" fill=\"#000000\">samples = 63</text>\n<text text-anchor=\"start\" x=\"150\" y=\"-304.8\" font-family=\"Helvetica,sans-Serif\" font-size=\"14.00\" fill=\"#000000\">value = [0, 32, 31]</text>\n</g>\n<!-- 0&#45;&gt;2 -->\n<g id=\"edge2\" class=\"edge\">\n<title>0&#45;&gt;2</title>\n<path fill=\"none\" stroke=\"#000000\" d=\"M158.4029,-400.9465C164.5791,-392.1475 171.3038,-382.5672 177.739,-373.3993\"/>\n<polygon fill=\"#000000\" stroke=\"#000000\" points=\"180.6629,-375.3258 183.5434,-365.13 174.9334,-371.3041 180.6629,-375.3258\"/>\n<text text-anchor=\"middle\" x=\"187.8563\" y=\"-386.0552\" font-family=\"Helvetica,sans-Serif\" font-size=\"14.00\" fill=\"#000000\">False</text>\n</g>\n<!-- 3 -->\n<g id=\"node4\" class=\"node\">\n<title>3</title>\n<path fill=\"#45e789\" stroke=\"#000000\" d=\"M189,-261C189,-261 78,-261 78,-261 72,-261 66,-255 66,-249 66,-249 66,-205 66,-205 66,-199 72,-193 78,-193 78,-193 189,-193 189,-193 195,-193 201,-199 201,-205 201,-205 201,-249 201,-249 201,-255 195,-261 189,-261\"/>\n<text text-anchor=\"start\" x=\"74\" y=\"-245.8\" font-family=\"Helvetica,sans-Serif\" font-size=\"14.00\" fill=\"#000000\">petal length ≤ 4.95</text>\n<text text-anchor=\"start\" x=\"82.5\" y=\"-230.8\" font-family=\"Helvetica,sans-Serif\" font-size=\"14.00\" fill=\"#000000\">entropy = 0.323</text>\n<text text-anchor=\"start\" x=\"89.5\" y=\"-215.8\" font-family=\"Helvetica,sans-Serif\" font-size=\"14.00\" fill=\"#000000\">samples = 34</text>\n<text text-anchor=\"start\" x=\"80\" y=\"-200.8\" font-family=\"Helvetica,sans-Serif\" font-size=\"14.00\" fill=\"#000000\">value = [0, 32, 2]</text>\n</g>\n<!-- 2&#45;&gt;3 -->\n<g id=\"edge3\" class=\"edge\">\n<title>2&#45;&gt;3</title>\n<path fill=\"none\" stroke=\"#000000\" d=\"M183.2696,-296.9465C177.0088,-288.1475 170.192,-278.5672 163.6687,-269.3993\"/>\n<polygon fill=\"#000000\" stroke=\"#000000\" points=\"166.4342,-267.2488 157.7848,-261.13 160.7306,-271.3071 166.4342,-267.2488\"/>\n</g>\n<!-- 8 -->\n<g id=\"node9\" class=\"node\">\n<title>8</title>\n<path fill=\"#8139e5\" stroke=\"#000000\" d=\"M330,-253.5C330,-253.5 231,-253.5 231,-253.5 225,-253.5 219,-247.5 219,-241.5 219,-241.5 219,-212.5 219,-212.5 219,-206.5 225,-200.5 231,-200.5 231,-200.5 330,-200.5 330,-200.5 336,-200.5 342,-206.5 342,-212.5 342,-212.5 342,-241.5 342,-241.5 342,-247.5 336,-253.5 330,-253.5\"/>\n<text text-anchor=\"start\" x=\"238\" y=\"-238.3\" font-family=\"Helvetica,sans-Serif\" font-size=\"14.00\" fill=\"#000000\">entropy = 0.0</text>\n<text text-anchor=\"start\" x=\"236.5\" y=\"-223.3\" font-family=\"Helvetica,sans-Serif\" font-size=\"14.00\" fill=\"#000000\">samples = 29</text>\n<text text-anchor=\"start\" x=\"227\" y=\"-208.3\" font-family=\"Helvetica,sans-Serif\" font-size=\"14.00\" fill=\"#000000\">value = [0, 0, 29]</text>\n</g>\n<!-- 2&#45;&gt;8 -->\n<g id=\"edge8\" class=\"edge\">\n<title>2&#45;&gt;8</title>\n<path fill=\"none\" stroke=\"#000000\" d=\"M231.4029,-296.9465C239.2892,-285.7113 248.0697,-273.2021 255.9998,-261.9043\"/>\n<polygon fill=\"#000000\" stroke=\"#000000\" points=\"258.9889,-263.7379 261.8694,-253.5422 253.2595,-259.7163 258.9889,-263.7379\"/>\n</g>\n<!-- 4 -->\n<g id=\"node5\" class=\"node\">\n<title>4</title>\n<path fill=\"#39e581\" stroke=\"#000000\" d=\"M111,-149.5C111,-149.5 12,-149.5 12,-149.5 6,-149.5 0,-143.5 0,-137.5 0,-137.5 0,-108.5 0,-108.5 0,-102.5 6,-96.5 12,-96.5 12,-96.5 111,-96.5 111,-96.5 117,-96.5 123,-102.5 123,-108.5 123,-108.5 123,-137.5 123,-137.5 123,-143.5 117,-149.5 111,-149.5\"/>\n<text text-anchor=\"start\" x=\"19\" y=\"-134.3\" font-family=\"Helvetica,sans-Serif\" font-size=\"14.00\" fill=\"#000000\">entropy = 0.0</text>\n<text text-anchor=\"start\" x=\"17.5\" y=\"-119.3\" font-family=\"Helvetica,sans-Serif\" font-size=\"14.00\" fill=\"#000000\">samples = 31</text>\n<text text-anchor=\"start\" x=\"8\" y=\"-104.3\" font-family=\"Helvetica,sans-Serif\" font-size=\"14.00\" fill=\"#000000\">value = [0, 31, 0]</text>\n</g>\n<!-- 3&#45;&gt;4 -->\n<g id=\"edge4\" class=\"edge\">\n<title>3&#45;&gt;4</title>\n<path fill=\"none\" stroke=\"#000000\" d=\"M109.9245,-192.9465C102.1463,-181.7113 93.4861,-169.2021 85.6645,-157.9043\"/>\n<polygon fill=\"#000000\" stroke=\"#000000\" points=\"88.4452,-155.7719 79.8753,-149.5422 82.6898,-159.7564 88.4452,-155.7719\"/>\n</g>\n<!-- 5 -->\n<g id=\"node6\" class=\"node\">\n<title>5</title>\n<path fill=\"#c09cf2\" stroke=\"#000000\" d=\"M258,-157C258,-157 153,-157 153,-157 147,-157 141,-151 141,-145 141,-145 141,-101 141,-101 141,-95 147,-89 153,-89 153,-89 258,-89 258,-89 264,-89 270,-95 270,-101 270,-101 270,-145 270,-145 270,-151 264,-157 258,-157\"/>\n<text text-anchor=\"start\" x=\"149\" y=\"-141.8\" font-family=\"Helvetica,sans-Serif\" font-size=\"14.00\" fill=\"#000000\">petal width ≤ 1.55</text>\n<text text-anchor=\"start\" x=\"154.5\" y=\"-126.8\" font-family=\"Helvetica,sans-Serif\" font-size=\"14.00\" fill=\"#000000\">entropy = 0.918</text>\n<text text-anchor=\"start\" x=\"166\" y=\"-111.8\" font-family=\"Helvetica,sans-Serif\" font-size=\"14.00\" fill=\"#000000\">samples = 3</text>\n<text text-anchor=\"start\" x=\"156\" y=\"-96.8\" font-family=\"Helvetica,sans-Serif\" font-size=\"14.00\" fill=\"#000000\">value = [0, 1, 2]</text>\n</g>\n<!-- 3&#45;&gt;5 -->\n<g id=\"edge5\" class=\"edge\">\n<title>3&#45;&gt;5</title>\n<path fill=\"none\" stroke=\"#000000\" d=\"M157.0755,-192.9465C163.1671,-184.1475 169.7996,-174.5672 176.1466,-165.3993\"/>\n<polygon fill=\"#000000\" stroke=\"#000000\" points=\"179.0571,-167.3442 181.8715,-157.13 173.3017,-163.3597 179.0571,-167.3442\"/>\n</g>\n<!-- 6 -->\n<g id=\"node7\" class=\"node\">\n<title>6</title>\n<path fill=\"#8139e5\" stroke=\"#000000\" d=\"M184,-53C184,-53 93,-53 93,-53 87,-53 81,-47 81,-41 81,-41 81,-12 81,-12 81,-6 87,0 93,0 93,0 184,0 184,0 190,0 196,-6 196,-12 196,-12 196,-41 196,-41 196,-47 190,-53 184,-53\"/>\n<text text-anchor=\"start\" x=\"96\" y=\"-37.8\" font-family=\"Helvetica,sans-Serif\" font-size=\"14.00\" fill=\"#000000\">entropy = 0.0</text>\n<text text-anchor=\"start\" x=\"99\" y=\"-22.8\" font-family=\"Helvetica,sans-Serif\" font-size=\"14.00\" fill=\"#000000\">samples = 2</text>\n<text text-anchor=\"start\" x=\"89\" y=\"-7.8\" font-family=\"Helvetica,sans-Serif\" font-size=\"14.00\" fill=\"#000000\">value = [0, 0, 2]</text>\n</g>\n<!-- 5&#45;&gt;6 -->\n<g id=\"edge6\" class=\"edge\">\n<title>5&#45;&gt;6</title>\n<path fill=\"none\" stroke=\"#000000\" d=\"M181.8783,-88.9777C175.7113,-80.0954 169.0539,-70.5067 162.8499,-61.5711\"/>\n<polygon fill=\"#000000\" stroke=\"#000000\" points=\"165.6497,-59.4666 157.0715,-53.2485 159.8997,-63.4589 165.6497,-59.4666\"/>\n</g>\n<!-- 7 -->\n<g id=\"node8\" class=\"node\">\n<title>7</title>\n<path fill=\"#39e581\" stroke=\"#000000\" d=\"M317,-53C317,-53 226,-53 226,-53 220,-53 214,-47 214,-41 214,-41 214,-12 214,-12 214,-6 220,0 226,0 226,0 317,0 317,0 323,0 329,-6 329,-12 329,-12 329,-41 329,-41 329,-47 323,-53 317,-53\"/>\n<text text-anchor=\"start\" x=\"229\" y=\"-37.8\" font-family=\"Helvetica,sans-Serif\" font-size=\"14.00\" fill=\"#000000\">entropy = 0.0</text>\n<text text-anchor=\"start\" x=\"232\" y=\"-22.8\" font-family=\"Helvetica,sans-Serif\" font-size=\"14.00\" fill=\"#000000\">samples = 1</text>\n<text text-anchor=\"start\" x=\"222\" y=\"-7.8\" font-family=\"Helvetica,sans-Serif\" font-size=\"14.00\" fill=\"#000000\">value = [0, 1, 0]</text>\n</g>\n<!-- 5&#45;&gt;7 -->\n<g id=\"edge7\" class=\"edge\">\n<title>5&#45;&gt;7</title>\n<path fill=\"none\" stroke=\"#000000\" d=\"M228.7691,-88.9777C234.844,-80.0954 241.4021,-70.5067 247.5135,-61.5711\"/>\n<polygon fill=\"#000000\" stroke=\"#000000\" points=\"250.4493,-63.4785 253.2057,-53.2485 244.6714,-59.5267 250.4493,-63.4785\"/>\n</g>\n</g>\n</svg>\n"
          },
          "metadata": {
            "tags": []
          },
          "execution_count": 580
        }
      ]
    },
    {
      "cell_type": "markdown",
      "metadata": {
        "id": "9ZYu8tmmrb61"
      },
      "source": [
        "**Evaluation dataset 1**"
      ]
    },
    {
      "cell_type": "code",
      "metadata": {
        "id": "kcbd2sRNETSH",
        "outputId": "bce286d7-8299-4bac-d8fc-78b8375a2fec",
        "colab": {
          "base_uri": "https://localhost:8080/",
          "height": 195
        }
      },
      "source": [
        "df2 = pd.read_csv(\"https://raw.githubusercontent.com/ShengHangNB/Datasets/master/transfusion.csv\")\n",
        "# df2 = df2.sample(n=450,random_state=50,axis=0)\n",
        "df2.head()"
      ],
      "execution_count": 581,
      "outputs": [
        {
          "output_type": "execute_result",
          "data": {
            "text/html": [
              "<div>\n",
              "<style scoped>\n",
              "    .dataframe tbody tr th:only-of-type {\n",
              "        vertical-align: middle;\n",
              "    }\n",
              "\n",
              "    .dataframe tbody tr th {\n",
              "        vertical-align: top;\n",
              "    }\n",
              "\n",
              "    .dataframe thead th {\n",
              "        text-align: right;\n",
              "    }\n",
              "</style>\n",
              "<table border=\"1\" class=\"dataframe\">\n",
              "  <thead>\n",
              "    <tr style=\"text-align: right;\">\n",
              "      <th></th>\n",
              "      <th>Recency (months)</th>\n",
              "      <th>Frequency (times)</th>\n",
              "      <th>Monetary (c.c. blood)</th>\n",
              "      <th>Time (months)</th>\n",
              "      <th>whether he/she donated blood in March 2007</th>\n",
              "    </tr>\n",
              "  </thead>\n",
              "  <tbody>\n",
              "    <tr>\n",
              "      <th>0</th>\n",
              "      <td>2</td>\n",
              "      <td>50</td>\n",
              "      <td>12500</td>\n",
              "      <td>98</td>\n",
              "      <td>1</td>\n",
              "    </tr>\n",
              "    <tr>\n",
              "      <th>1</th>\n",
              "      <td>0</td>\n",
              "      <td>13</td>\n",
              "      <td>3250</td>\n",
              "      <td>28</td>\n",
              "      <td>1</td>\n",
              "    </tr>\n",
              "    <tr>\n",
              "      <th>2</th>\n",
              "      <td>1</td>\n",
              "      <td>16</td>\n",
              "      <td>4000</td>\n",
              "      <td>35</td>\n",
              "      <td>1</td>\n",
              "    </tr>\n",
              "    <tr>\n",
              "      <th>3</th>\n",
              "      <td>2</td>\n",
              "      <td>20</td>\n",
              "      <td>5000</td>\n",
              "      <td>45</td>\n",
              "      <td>1</td>\n",
              "    </tr>\n",
              "    <tr>\n",
              "      <th>4</th>\n",
              "      <td>1</td>\n",
              "      <td>24</td>\n",
              "      <td>6000</td>\n",
              "      <td>77</td>\n",
              "      <td>0</td>\n",
              "    </tr>\n",
              "  </tbody>\n",
              "</table>\n",
              "</div>"
            ],
            "text/plain": [
              "   Recency (months)  ...  whether he/she donated blood in March 2007\n",
              "0                 2  ...                                           1\n",
              "1                 0  ...                                           1\n",
              "2                 1  ...                                           1\n",
              "3                 2  ...                                           1\n",
              "4                 1  ...                                           0\n",
              "\n",
              "[5 rows x 5 columns]"
            ]
          },
          "metadata": {
            "tags": []
          },
          "execution_count": 581
        }
      ]
    },
    {
      "cell_type": "code",
      "metadata": {
        "id": "AN_pbyTgkHS6",
        "outputId": "58653418-8eae-4ca2-dd14-ba981143804d",
        "colab": {
          "base_uri": "https://localhost:8080/",
          "height": 84
        }
      },
      "source": [
        "attrs2 = df2.keys()[:-1]\n",
        "print(\"The number of samples in the total datasets are {}\\n\".format(df2.shape[0]))\n",
        "X_total2 = df2[attrs2]\n",
        "y_total2 = df2.iloc[:,-1]\n",
        "\n",
        "X_train2, X_test2, y_train2, y_test2 = train_test_split(X_total2, y_total2, test_size = 0.33,random_state = 48)\n",
        "\n",
        "\n",
        "print(\"The number of samples in the training datasets are {}\".format(X_train2.shape[0]))\n",
        "print(\"The number of samples in the testing datasets are {}\".format(X_test2.shape[0]))"
      ],
      "execution_count": 582,
      "outputs": [
        {
          "output_type": "stream",
          "text": [
            "The number of samples in the total datasets are 748\n",
            "\n",
            "The number of samples in the training datasets are 501\n",
            "The number of samples in the testing datasets are 247\n"
          ],
          "name": "stdout"
        }
      ]
    },
    {
      "cell_type": "code",
      "metadata": {
        "id": "-6kwd1jxk2o2",
        "outputId": "2e4bbe75-cf73-4e3e-ce83-f43ec01e8ba8",
        "colab": {
          "base_uri": "https://localhost:8080/",
          "height": 1000
        }
      },
      "source": [
        "dt2 = TreeC4_5(X_train2,y_train2)\n",
        "dt2.fit()"
      ],
      "execution_count": 583,
      "outputs": [
        {
          "output_type": "stream",
          "text": [
            "Issues happen!\n",
            "These samples have the same Input values but different target values\n",
            "Input values: \n",
            "     Recency (months)  Frequency (times)  Monetary (c.c. blood)  Time (months)\n",
            "712                14                  2                    500             35\n",
            "434                14                  2                    500             35\n",
            "Target values: \n",
            "712    1\n",
            "434    0\n",
            "Name: whether he/she donated blood in March 2007, dtype: int64\n",
            "Just make a decision ->  0\n",
            "------------------------------------------------------------------------------------------------------------\n",
            "Issues happen!\n",
            "These samples have the same Input values but different target values\n",
            "Input values: \n",
            "     Recency (months)  Frequency (times)  Monetary (c.c. blood)  Time (months)\n",
            "332                16                  6                   1500             35\n",
            "331                16                  6                   1500             35\n",
            "Target values: \n",
            "332    1\n",
            "331    0\n",
            "Name: whether he/she donated blood in March 2007, dtype: int64\n",
            "Just make a decision ->  0\n",
            "------------------------------------------------------------------------------------------------------------\n",
            "Issues happen!\n",
            "These samples have the same Input values but different target values\n",
            "Input values: \n",
            "     Recency (months)  Frequency (times)  Monetary (c.c. blood)  Time (months)\n",
            "399                21                  3                    750             26\n",
            "397                21                  3                    750             26\n",
            "Target values: \n",
            "399    1\n",
            "397    0\n",
            "Name: whether he/she donated blood in March 2007, dtype: int64\n",
            "Just make a decision ->  0\n",
            "------------------------------------------------------------------------------------------------------------\n",
            "Issues happen!\n",
            "These samples have the same Input values but different target values\n",
            "Input values: \n",
            "     Recency (months)  Frequency (times)  Monetary (c.c. blood)  Time (months)\n",
            "662                16                  3                    750             21\n",
            "335                16                  3                    750             21\n",
            "Target values: \n",
            "662    0\n",
            "335    1\n",
            "Name: whether he/she donated blood in March 2007, dtype: int64\n",
            "Just make a decision ->  0\n",
            "------------------------------------------------------------------------------------------------------------\n",
            "Issues happen!\n",
            "These samples have the same Input values but different target values\n",
            "Input values: \n",
            "     Recency (months)  Frequency (times)  Monetary (c.c. blood)  Time (months)\n",
            "45                  4                  9                   2250             28\n",
            "524                 4                  9                   2250             28\n",
            "Target values: \n",
            "45     1\n",
            "524    0\n",
            "Name: whether he/she donated blood in March 2007, dtype: int64\n",
            "Just make a decision ->  0\n",
            "------------------------------------------------------------------------------------------------------------\n",
            "Issues happen!\n",
            "These samples have the same Input values but different target values\n",
            "Input values: \n",
            "    Recency (months)  Frequency (times)  Monetary (c.c. blood)  Time (months)\n",
            "50                 2                 11                   2750             46\n",
            "51                 2                 11                   2750             46\n",
            "Target values: \n",
            "50    0\n",
            "51    1\n",
            "Name: whether he/she donated blood in March 2007, dtype: int64\n",
            "Just make a decision ->  0\n",
            "------------------------------------------------------------------------------------------------------------\n",
            "Issues happen!\n",
            "These samples have the same Input values but different target values\n",
            "Input values: \n",
            "     Recency (months)  Frequency (times)  Monetary (c.c. blood)  Time (months)\n",
            "540                 2                  6                   1500             28\n",
            "85                  2                  6                   1500             28\n",
            "Target values: \n",
            "540    1\n",
            "85     0\n",
            "Name: whether he/she donated blood in March 2007, dtype: int64\n",
            "Just make a decision ->  0\n",
            "------------------------------------------------------------------------------------------------------------\n",
            "Issues happen!\n",
            "These samples have the same Input values but different target values\n",
            "Input values: \n",
            "     Recency (months)  Frequency (times)  Monetary (c.c. blood)  Time (months)\n",
            "529                 2                  6                   1500             22\n",
            "52                  2                  6                   1500             22\n",
            "Target values: \n",
            "529    1\n",
            "52     0\n",
            "Name: whether he/she donated blood in March 2007, dtype: int64\n",
            "Just make a decision ->  0\n",
            "------------------------------------------------------------------------------------------------------------\n",
            "Issues happen!\n",
            "These samples have the same Input values but different target values\n",
            "Input values: \n",
            "     Recency (months)  Frequency (times)  Monetary (c.c. blood)  Time (months)\n",
            "144                 4                  2                    500              9\n",
            "571                 4                  2                    500              9\n",
            "Target values: \n",
            "144    1\n",
            "571    0\n",
            "Name: whether he/she donated blood in March 2007, dtype: int64\n",
            "Just make a decision ->  0\n",
            "------------------------------------------------------------------------------------------------------------\n",
            "Issues happen!\n",
            "These samples have the same Input values but different target values\n",
            "Input values: \n",
            "     Recency (months)  Frequency (times)  Monetary (c.c. blood)  Time (months)\n",
            "5                   4                  4                   1000              4\n",
            "510                 4                  4                   1000              4\n",
            "Target values: \n",
            "5      0\n",
            "510    1\n",
            "Name: whether he/she donated blood in March 2007, dtype: int64\n",
            "Just make a decision ->  0\n",
            "------------------------------------------------------------------------------------------------------------\n"
          ],
          "name": "stdout"
        }
      ]
    },
    {
      "cell_type": "code",
      "metadata": {
        "id": "ip4YtTgilG7I",
        "outputId": "ca7bc5f6-dee8-4cc6-fe23-5b7685d7fbdb",
        "colab": {
          "base_uri": "https://localhost:8080/",
          "height": 34
        }
      },
      "source": [
        "decisions = dt2.predict(X_test2)\n",
        "results = decisions == y_test2\n",
        "accuracy = sum(results) / len(results)\n",
        "print(\"My model's accuracy is: \", accuracy)"
      ],
      "execution_count": 584,
      "outputs": [
        {
          "output_type": "stream",
          "text": [
            "My model's accuracy is:  0.708502024291498\n"
          ],
          "name": "stdout"
        }
      ]
    },
    {
      "cell_type": "code",
      "metadata": {
        "id": "wnHfhZz_mqZl",
        "outputId": "bdebcea4-d6e3-4a30-ea12-6633a73d8d3e",
        "colab": {
          "base_uri": "https://localhost:8080/",
          "height": 34
        }
      },
      "source": [
        "clf2 = tree.DecisionTreeClassifier(criterion=\"entropy\",random_state=35)\n",
        "clf2 = clf2.fit(X_train2,y_train2)\n",
        "decisions = clf2.predict(X_test2)\n",
        "result = [decision == target for decision,target in zip(decisions,y_test2)]\n",
        "accuracy = sum(result)/len(result)\n",
        "print(\"Decision tree model's accuracy in sklearn library is:\",accuracy)"
      ],
      "execution_count": 585,
      "outputs": [
        {
          "output_type": "stream",
          "text": [
            "Decision tree model's accuracy in sklearn library is: 0.7246963562753036\n"
          ],
          "name": "stdout"
        }
      ]
    },
    {
      "cell_type": "markdown",
      "metadata": {
        "id": "oDnuLepFrVxD"
      },
      "source": [
        "**Evaluation dataset 2**"
      ]
    },
    {
      "cell_type": "code",
      "metadata": {
        "id": "3sN4wAe8m4c_",
        "outputId": "9e439e32-a6a9-45ec-b958-028753708b0c",
        "colab": {
          "base_uri": "https://localhost:8080/",
          "height": 195
        }
      },
      "source": [
        "df3 = pd.read_csv(\"https://raw.githubusercontent.com/ShengHangNB/Datasets/master/winequality-red.csv\")\n",
        "\n",
        "df3 = df3.sample(n=750, random_state=50, axis=0)\n",
        "\n",
        "def change_target_type(x):\n",
        "  if x > 6.5:\n",
        "    return 'good'\n",
        "\n",
        "  else:\n",
        "    return 'not good'\n",
        "\n",
        "df3.loc[:,\"quality\"] = df3[\"quality\"].apply(change_target_type)\n",
        "df3.head()"
      ],
      "execution_count": 586,
      "outputs": [
        {
          "output_type": "execute_result",
          "data": {
            "text/html": [
              "<div>\n",
              "<style scoped>\n",
              "    .dataframe tbody tr th:only-of-type {\n",
              "        vertical-align: middle;\n",
              "    }\n",
              "\n",
              "    .dataframe tbody tr th {\n",
              "        vertical-align: top;\n",
              "    }\n",
              "\n",
              "    .dataframe thead th {\n",
              "        text-align: right;\n",
              "    }\n",
              "</style>\n",
              "<table border=\"1\" class=\"dataframe\">\n",
              "  <thead>\n",
              "    <tr style=\"text-align: right;\">\n",
              "      <th></th>\n",
              "      <th>fixed acidity</th>\n",
              "      <th>volatile acidity</th>\n",
              "      <th>citric acid</th>\n",
              "      <th>residual sugar</th>\n",
              "      <th>chlorides</th>\n",
              "      <th>free sulfur dioxide</th>\n",
              "      <th>total sulfur dioxide</th>\n",
              "      <th>density</th>\n",
              "      <th>pH</th>\n",
              "      <th>sulphates</th>\n",
              "      <th>alcohol</th>\n",
              "      <th>quality</th>\n",
              "    </tr>\n",
              "  </thead>\n",
              "  <tbody>\n",
              "    <tr>\n",
              "      <th>453</th>\n",
              "      <td>10.4</td>\n",
              "      <td>0.33</td>\n",
              "      <td>0.63</td>\n",
              "      <td>2.8</td>\n",
              "      <td>0.084</td>\n",
              "      <td>5.0</td>\n",
              "      <td>22.0</td>\n",
              "      <td>0.99980</td>\n",
              "      <td>3.26</td>\n",
              "      <td>0.74</td>\n",
              "      <td>11.2</td>\n",
              "      <td>good</td>\n",
              "    </tr>\n",
              "    <tr>\n",
              "      <th>1415</th>\n",
              "      <td>6.2</td>\n",
              "      <td>0.58</td>\n",
              "      <td>0.00</td>\n",
              "      <td>1.6</td>\n",
              "      <td>0.065</td>\n",
              "      <td>8.0</td>\n",
              "      <td>18.0</td>\n",
              "      <td>0.99660</td>\n",
              "      <td>3.56</td>\n",
              "      <td>0.84</td>\n",
              "      <td>9.4</td>\n",
              "      <td>not good</td>\n",
              "    </tr>\n",
              "    <tr>\n",
              "      <th>1242</th>\n",
              "      <td>9.0</td>\n",
              "      <td>0.40</td>\n",
              "      <td>0.41</td>\n",
              "      <td>2.0</td>\n",
              "      <td>0.058</td>\n",
              "      <td>15.0</td>\n",
              "      <td>40.0</td>\n",
              "      <td>0.99414</td>\n",
              "      <td>3.22</td>\n",
              "      <td>0.60</td>\n",
              "      <td>12.2</td>\n",
              "      <td>not good</td>\n",
              "    </tr>\n",
              "    <tr>\n",
              "      <th>885</th>\n",
              "      <td>8.9</td>\n",
              "      <td>0.75</td>\n",
              "      <td>0.14</td>\n",
              "      <td>2.5</td>\n",
              "      <td>0.086</td>\n",
              "      <td>9.0</td>\n",
              "      <td>30.0</td>\n",
              "      <td>0.99824</td>\n",
              "      <td>3.34</td>\n",
              "      <td>0.64</td>\n",
              "      <td>10.5</td>\n",
              "      <td>not good</td>\n",
              "    </tr>\n",
              "    <tr>\n",
              "      <th>488</th>\n",
              "      <td>11.6</td>\n",
              "      <td>0.32</td>\n",
              "      <td>0.55</td>\n",
              "      <td>2.8</td>\n",
              "      <td>0.081</td>\n",
              "      <td>35.0</td>\n",
              "      <td>67.0</td>\n",
              "      <td>1.00020</td>\n",
              "      <td>3.32</td>\n",
              "      <td>0.92</td>\n",
              "      <td>10.8</td>\n",
              "      <td>good</td>\n",
              "    </tr>\n",
              "  </tbody>\n",
              "</table>\n",
              "</div>"
            ],
            "text/plain": [
              "      fixed acidity  volatile acidity  ...  alcohol   quality\n",
              "453            10.4              0.33  ...     11.2      good\n",
              "1415            6.2              0.58  ...      9.4  not good\n",
              "1242            9.0              0.40  ...     12.2  not good\n",
              "885             8.9              0.75  ...     10.5  not good\n",
              "488            11.6              0.32  ...     10.8      good\n",
              "\n",
              "[5 rows x 12 columns]"
            ]
          },
          "metadata": {
            "tags": []
          },
          "execution_count": 586
        }
      ]
    },
    {
      "cell_type": "code",
      "metadata": {
        "id": "hqGqZJ78pMuU",
        "outputId": "37a76d8e-9b83-4d17-f013-05ba93c54447",
        "colab": {
          "base_uri": "https://localhost:8080/",
          "height": 84
        }
      },
      "source": [
        "attrs3 = df3.keys()[:-1]\n",
        "print(\"The number of samples in the total datasets are {}\\n\".format(df3.shape[0]))\n",
        "X_total3 = df3[attrs3]\n",
        "y_total3 = df3.iloc[:,-1]\n",
        "\n",
        "X_train3, X_test3, y_train3, y_test3 = train_test_split(X_total3, y_total3, test_size = 0.33,random_state = 48)\n",
        "\n",
        "\n",
        "print(\"The number of samples in the training datasets are {}\".format(X_train3.shape[0]))\n",
        "print(\"The number of samples in the testing datasets are {}\".format(X_test3.shape[0]))"
      ],
      "execution_count": 587,
      "outputs": [
        {
          "output_type": "stream",
          "text": [
            "The number of samples in the total datasets are 750\n",
            "\n",
            "The number of samples in the training datasets are 502\n",
            "The number of samples in the testing datasets are 248\n"
          ],
          "name": "stdout"
        }
      ]
    },
    {
      "cell_type": "code",
      "metadata": {
        "id": "oVWgwzOvpd5o"
      },
      "source": [
        "dt3 = TreeC4_5(X_train3,y_train3)\n",
        "dt3.fit()"
      ],
      "execution_count": 588,
      "outputs": []
    },
    {
      "cell_type": "code",
      "metadata": {
        "id": "icL4lqaGpuuD",
        "outputId": "2feeecfb-cb8e-41ff-ee2c-3c764dd633e2",
        "colab": {
          "base_uri": "https://localhost:8080/",
          "height": 34
        }
      },
      "source": [
        "decisions = dt3.predict(X_test3)\n",
        "results = decisions == y_test3\n",
        "accuracy = sum(results) / len(results)\n",
        "print(\"My model's accuracy is: \", accuracy)"
      ],
      "execution_count": 589,
      "outputs": [
        {
          "output_type": "stream",
          "text": [
            "My model's accuracy is:  0.875\n"
          ],
          "name": "stdout"
        }
      ]
    },
    {
      "cell_type": "code",
      "metadata": {
        "id": "_4xpa2vKrK4-",
        "outputId": "2d0c39ac-9fb1-499e-f98d-75a4de4852bc",
        "colab": {
          "base_uri": "https://localhost:8080/",
          "height": 34
        }
      },
      "source": [
        "clf3 = tree.DecisionTreeClassifier(criterion=\"entropy\",random_state=35)\n",
        "clf3 = clf3.fit(X_train3,y_train3)\n",
        "decisions = clf3.predict(X_test3)\n",
        "result = [decision == target for decision,target in zip(decisions,y_test3)]\n",
        "accuracy = sum(result)/len(result)\n",
        "print(\"Decision tree model's accuracy in sklearn library is:\",accuracy)"
      ],
      "execution_count": 590,
      "outputs": [
        {
          "output_type": "stream",
          "text": [
            "Decision tree model's accuracy in sklearn library is: 0.8588709677419355\n"
          ],
          "name": "stdout"
        }
      ]
    },
    {
      "cell_type": "code",
      "metadata": {
        "id": "Wd4miqe6rTNR"
      },
      "source": [
        ""
      ],
      "execution_count": 590,
      "outputs": []
    }
  ]
}