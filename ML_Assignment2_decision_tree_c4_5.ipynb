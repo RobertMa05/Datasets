{
  "nbformat": 4,
  "nbformat_minor": 0,
  "metadata": {
    "colab": {
      "name": "ML  Assignment2 decision_tree_c4.5.ipynb",
      "provenance": [],
      "collapsed_sections": [],
      "authorship_tag": "ABX9TyMVujbgPko130bcwAwd7Lxl",
      "include_colab_link": true
    },
    "kernelspec": {
      "name": "python3",
      "display_name": "Python 3"
    }
  },
  "cells": [
    {
      "cell_type": "markdown",
      "metadata": {
        "id": "view-in-github",
        "colab_type": "text"
      },
      "source": [
        "<a href=\"https://colab.research.google.com/github/ShengHangNB/Datasets/blob/master/ML_Assignment2_decision_tree_c4_5.ipynb\" target=\"_parent\"><img src=\"https://colab.research.google.com/assets/colab-badge.svg\" alt=\"Open In Colab\"/></a>"
      ]
    },
    {
      "cell_type": "markdown",
      "metadata": {
        "id": "sKWuN40coCiO"
      },
      "source": [
        "**Machine Learning Assignment 2**\n",
        "\n",
        "Implementation of algorithm - Decision Tree C4.5\n",
        "\n",
        "\n"
      ]
    },
    {
      "cell_type": "code",
      "metadata": {
        "id": "HnBQDxtG4q-h"
      },
      "source": [
        "import pandas as pd\n",
        "import numpy as np\n",
        "import matplotlib.pyplot as plt\n",
        "from sklearn.model_selection import train_test_split"
      ],
      "execution_count": 264,
      "outputs": []
    },
    {
      "cell_type": "code",
      "metadata": {
        "id": "LgxYpiRYCSfU",
        "outputId": "33c8944d-2b7f-4e75-d171-61671923c1e6",
        "colab": {
          "base_uri": "https://localhost:8080/",
          "height": 195
        }
      },
      "source": [
        "# df = pd.read_csv(\"https://raw.githubusercontent.com/ShengHangNB/Datasets/master/transfusion.csv\")\n",
        "df = pd.read_csv(\"https://raw.githubusercontent.com/ShengHangNB/Datasets/master/iris.csv\")\n",
        "# df = df.sample(n=150,random_state=123,axis=0)\n",
        "df.head()"
      ],
      "execution_count": 265,
      "outputs": [
        {
          "output_type": "execute_result",
          "data": {
            "text/html": [
              "<div>\n",
              "<style scoped>\n",
              "    .dataframe tbody tr th:only-of-type {\n",
              "        vertical-align: middle;\n",
              "    }\n",
              "\n",
              "    .dataframe tbody tr th {\n",
              "        vertical-align: top;\n",
              "    }\n",
              "\n",
              "    .dataframe thead th {\n",
              "        text-align: right;\n",
              "    }\n",
              "</style>\n",
              "<table border=\"1\" class=\"dataframe\">\n",
              "  <thead>\n",
              "    <tr style=\"text-align: right;\">\n",
              "      <th></th>\n",
              "      <th>sepal length</th>\n",
              "      <th>sepal width</th>\n",
              "      <th>petal length</th>\n",
              "      <th>petal width</th>\n",
              "      <th>class</th>\n",
              "    </tr>\n",
              "  </thead>\n",
              "  <tbody>\n",
              "    <tr>\n",
              "      <th>0</th>\n",
              "      <td>5.1</td>\n",
              "      <td>3.5</td>\n",
              "      <td>1.4</td>\n",
              "      <td>0.2</td>\n",
              "      <td>Iris-setosa</td>\n",
              "    </tr>\n",
              "    <tr>\n",
              "      <th>1</th>\n",
              "      <td>4.9</td>\n",
              "      <td>3.0</td>\n",
              "      <td>1.4</td>\n",
              "      <td>0.2</td>\n",
              "      <td>Iris-setosa</td>\n",
              "    </tr>\n",
              "    <tr>\n",
              "      <th>2</th>\n",
              "      <td>4.7</td>\n",
              "      <td>3.2</td>\n",
              "      <td>1.3</td>\n",
              "      <td>0.2</td>\n",
              "      <td>Iris-setosa</td>\n",
              "    </tr>\n",
              "    <tr>\n",
              "      <th>3</th>\n",
              "      <td>4.6</td>\n",
              "      <td>3.1</td>\n",
              "      <td>1.5</td>\n",
              "      <td>0.2</td>\n",
              "      <td>Iris-setosa</td>\n",
              "    </tr>\n",
              "    <tr>\n",
              "      <th>4</th>\n",
              "      <td>5.0</td>\n",
              "      <td>3.6</td>\n",
              "      <td>1.4</td>\n",
              "      <td>0.2</td>\n",
              "      <td>Iris-setosa</td>\n",
              "    </tr>\n",
              "  </tbody>\n",
              "</table>\n",
              "</div>"
            ],
            "text/plain": [
              "   sepal length  sepal width  petal length  petal width        class\n",
              "0           5.1          3.5           1.4          0.2  Iris-setosa\n",
              "1           4.9          3.0           1.4          0.2  Iris-setosa\n",
              "2           4.7          3.2           1.3          0.2  Iris-setosa\n",
              "3           4.6          3.1           1.5          0.2  Iris-setosa\n",
              "4           5.0          3.6           1.4          0.2  Iris-setosa"
            ]
          },
          "metadata": {
            "tags": []
          },
          "execution_count": 265
        }
      ]
    },
    {
      "cell_type": "code",
      "metadata": {
        "id": "86D2pM_cHFu0",
        "outputId": "5f9f9fa6-51e9-4c84-c669-9c4d782b79e5",
        "colab": {
          "base_uri": "https://localhost:8080/",
          "height": 34
        }
      },
      "source": [
        "# check whether there are some duplicated values in the datasets\n",
        "df.duplicated().sum()\n",
        "\n",
        "# The results show they are 215 duplicated samples in the datasets,\n",
        "# I do not drop the duplicated values here because I want to \n",
        "# design the function in the algorithm to deal with the duplicated values."
      ],
      "execution_count": 266,
      "outputs": [
        {
          "output_type": "execute_result",
          "data": {
            "text/plain": [
              "3"
            ]
          },
          "metadata": {
            "tags": []
          },
          "execution_count": 266
        }
      ]
    },
    {
      "cell_type": "code",
      "metadata": {
        "id": "SCcxiXgun2-K",
        "outputId": "06080860-4c79-4a9c-adad-a0f119992066",
        "colab": {
          "base_uri": "https://localhost:8080/",
          "height": 118
        }
      },
      "source": [
        "# check whether thare are some null values for each attribute\n",
        "df.isnull().any()"
      ],
      "execution_count": 267,
      "outputs": [
        {
          "output_type": "execute_result",
          "data": {
            "text/plain": [
              "sepal length    False\n",
              "sepal width     False\n",
              "petal length    False\n",
              "petal width     False\n",
              "class           False\n",
              "dtype: bool"
            ]
          },
          "metadata": {
            "tags": []
          },
          "execution_count": 267
        }
      ]
    },
    {
      "cell_type": "code",
      "metadata": {
        "id": "KNtdsVb4_0qq",
        "outputId": "dee6e830-b0ba-4d6e-a76c-96b07ad7043e",
        "colab": {
          "base_uri": "https://localhost:8080/",
          "height": 218
        }
      },
      "source": [
        "# check the data type and non-null count values for each attribute\n",
        "df.info()"
      ],
      "execution_count": 268,
      "outputs": [
        {
          "output_type": "stream",
          "text": [
            "<class 'pandas.core.frame.DataFrame'>\n",
            "RangeIndex: 150 entries, 0 to 149\n",
            "Data columns (total 5 columns):\n",
            " #   Column        Non-Null Count  Dtype  \n",
            "---  ------        --------------  -----  \n",
            " 0   sepal length  150 non-null    float64\n",
            " 1   sepal width   150 non-null    float64\n",
            " 2   petal length  150 non-null    float64\n",
            " 3   petal width   150 non-null    float64\n",
            " 4   class         150 non-null    object \n",
            "dtypes: float64(4), object(1)\n",
            "memory usage: 6.0+ KB\n"
          ],
          "name": "stdout"
        }
      ]
    },
    {
      "cell_type": "code",
      "metadata": {
        "id": "RCA0xqVo_3A0",
        "outputId": "f0157f24-c9e5-4f0d-f6d6-89b7e6ae642d",
        "colab": {
          "base_uri": "https://localhost:8080/",
          "height": 284
        }
      },
      "source": [
        "# Table of statistics for all numerical attributes:\n",
        "df.describe()"
      ],
      "execution_count": 269,
      "outputs": [
        {
          "output_type": "execute_result",
          "data": {
            "text/html": [
              "<div>\n",
              "<style scoped>\n",
              "    .dataframe tbody tr th:only-of-type {\n",
              "        vertical-align: middle;\n",
              "    }\n",
              "\n",
              "    .dataframe tbody tr th {\n",
              "        vertical-align: top;\n",
              "    }\n",
              "\n",
              "    .dataframe thead th {\n",
              "        text-align: right;\n",
              "    }\n",
              "</style>\n",
              "<table border=\"1\" class=\"dataframe\">\n",
              "  <thead>\n",
              "    <tr style=\"text-align: right;\">\n",
              "      <th></th>\n",
              "      <th>sepal length</th>\n",
              "      <th>sepal width</th>\n",
              "      <th>petal length</th>\n",
              "      <th>petal width</th>\n",
              "    </tr>\n",
              "  </thead>\n",
              "  <tbody>\n",
              "    <tr>\n",
              "      <th>count</th>\n",
              "      <td>150.000000</td>\n",
              "      <td>150.000000</td>\n",
              "      <td>150.000000</td>\n",
              "      <td>150.000000</td>\n",
              "    </tr>\n",
              "    <tr>\n",
              "      <th>mean</th>\n",
              "      <td>5.843333</td>\n",
              "      <td>3.054000</td>\n",
              "      <td>3.758667</td>\n",
              "      <td>1.198667</td>\n",
              "    </tr>\n",
              "    <tr>\n",
              "      <th>std</th>\n",
              "      <td>0.828066</td>\n",
              "      <td>0.433594</td>\n",
              "      <td>1.764420</td>\n",
              "      <td>0.763161</td>\n",
              "    </tr>\n",
              "    <tr>\n",
              "      <th>min</th>\n",
              "      <td>4.300000</td>\n",
              "      <td>2.000000</td>\n",
              "      <td>1.000000</td>\n",
              "      <td>0.100000</td>\n",
              "    </tr>\n",
              "    <tr>\n",
              "      <th>25%</th>\n",
              "      <td>5.100000</td>\n",
              "      <td>2.800000</td>\n",
              "      <td>1.600000</td>\n",
              "      <td>0.300000</td>\n",
              "    </tr>\n",
              "    <tr>\n",
              "      <th>50%</th>\n",
              "      <td>5.800000</td>\n",
              "      <td>3.000000</td>\n",
              "      <td>4.350000</td>\n",
              "      <td>1.300000</td>\n",
              "    </tr>\n",
              "    <tr>\n",
              "      <th>75%</th>\n",
              "      <td>6.400000</td>\n",
              "      <td>3.300000</td>\n",
              "      <td>5.100000</td>\n",
              "      <td>1.800000</td>\n",
              "    </tr>\n",
              "    <tr>\n",
              "      <th>max</th>\n",
              "      <td>7.900000</td>\n",
              "      <td>4.400000</td>\n",
              "      <td>6.900000</td>\n",
              "      <td>2.500000</td>\n",
              "    </tr>\n",
              "  </tbody>\n",
              "</table>\n",
              "</div>"
            ],
            "text/plain": [
              "       sepal length  sepal width  petal length  petal width\n",
              "count    150.000000   150.000000    150.000000   150.000000\n",
              "mean       5.843333     3.054000      3.758667     1.198667\n",
              "std        0.828066     0.433594      1.764420     0.763161\n",
              "min        4.300000     2.000000      1.000000     0.100000\n",
              "25%        5.100000     2.800000      1.600000     0.300000\n",
              "50%        5.800000     3.000000      4.350000     1.300000\n",
              "75%        6.400000     3.300000      5.100000     1.800000\n",
              "max        7.900000     4.400000      6.900000     2.500000"
            ]
          },
          "metadata": {
            "tags": []
          },
          "execution_count": 269
        }
      ]
    },
    {
      "cell_type": "code",
      "metadata": {
        "id": "J4f-6dOLSOfh",
        "outputId": "097fbab0-7a05-401a-f4d0-79a4b4b24c4f",
        "colab": {
          "base_uri": "https://localhost:8080/",
          "height": 134
        }
      },
      "source": [
        "# get the attributes by using the df.keys() functions,\n",
        "# then extract all the attributes except for the target name by using the slice method df.keys()[:-1]\n",
        "attrs = df.keys()[:-1]\n",
        "print(\"The attrbutes are: \")\n",
        "for attr in attrs:\n",
        "  print(attr)\n",
        "\n",
        "print(\"\\nThe target is \",df.keys()[-1])"
      ],
      "execution_count": 270,
      "outputs": [
        {
          "output_type": "stream",
          "text": [
            "The attrbutes are: \n",
            "sepal length\n",
            "sepal width\n",
            "petal length\n",
            "petal width\n",
            "\n",
            "The target is  class\n"
          ],
          "name": "stdout"
        }
      ]
    },
    {
      "cell_type": "code",
      "metadata": {
        "id": "lmHSMxnC_7zU",
        "outputId": "fc680809-929e-42c9-9381-ca6e5ed5caa2",
        "colab": {
          "base_uri": "https://localhost:8080/",
          "height": 84
        }
      },
      "source": [
        "# split the datasets into the attributes datasets (input) and target datasets (output)\n",
        "# X: DataFrame type   y: Series type\n",
        "print(\"The number of samples in the total datasets are {}\\n\".format(df.shape[0]))\n",
        "X = df[attrs]\n",
        "y = df.iloc[:,-1]\n",
        "\n",
        "# For the features datasets,target datasets, split them into the training datasets and testing datasets respectively\n",
        "# The training datasets accounts for 67% of the total datasets,\n",
        "# The testing datasets acoounts for 33% of the total datasets\n",
        "X_train, X_test, y_train, y_test = train_test_split(X, y, test_size = 0.33,random_state = 48)\n",
        "\n",
        "\n",
        "print(\"The number of samples in the training datasets are {}\".format(X_train.shape[0]))\n",
        "print(\"The number of samples in the testing datasets are {}\".format(X_test.shape[0]))"
      ],
      "execution_count": 271,
      "outputs": [
        {
          "output_type": "stream",
          "text": [
            "The number of samples in the total datasets are 150\n",
            "\n",
            "The number of samples in the training datasets are 100\n",
            "The number of samples in the testing datasets are 50\n"
          ],
          "name": "stdout"
        }
      ]
    },
    {
      "cell_type": "code",
      "metadata": {
        "id": "afIXw83jAFAK"
      },
      "source": [
        "def get_split_pointSet(attr_series):\n",
        "    '''\n",
        "      功能:通过二分法将连续属性离散化处理\n",
        "      array: 传入的一列属性的值，series类型\n",
        "      返回值：所有划分点的集合,array类型\n",
        "    '''\n",
        "    unique_values = np.unique(attr_series)\n",
        "    result = np.array([(unique_values[i] + unique_values[i+1]) / 2 for i in range(len(unique_values)-1)])\n",
        "\n",
        "    return np.unique(result)"
      ],
      "execution_count": 272,
      "outputs": []
    },
    {
      "cell_type": "code",
      "metadata": {
        "id": "LiUQMgYgKTCe"
      },
      "source": [
        "def get_discrete_variables(X,attr,split_point):\n",
        "  '''\n",
        "    功能：将连续型变量通过分裂点转换为大于分裂点和小于分离点的离散型变量\n",
        "    X: 传入的数据集, DataFrame\n",
        "    attr: 需要分割的属性\n",
        "    split_point：划分点/分割点\n",
        "  '''\n",
        "  bins_to_cut = [min(X[attr]),split_point,max(X[attr])]\n",
        "  labels_to_cut = [attr + ' < ' + str(split_point), attr + ' > ' + str(split_point)]\n",
        "  categorized_column = pd.cut(X[attr], bins= bins_to_cut , labels = labels_to_cut, include_lowest=True)\n",
        "  return categorized_column\n"
      ],
      "execution_count": 273,
      "outputs": []
    },
    {
      "cell_type": "code",
      "metadata": {
        "id": "49CU-fTsAHCq"
      },
      "source": [
        "def compute_entropy(y):\n",
        "    '''\n",
        "      功能：计算信息熵H(D)\n",
        "      y: 传入的目标值series\n",
        "      返回值：float类型的计算结果\n",
        "    '''\n",
        "    if len(y) < 2:\n",
        "        return 0.0\n",
        "    \n",
        "    freq = y.value_counts(normalize=True)\n",
        "    \n",
        "    return -(freq * np.log2(freq + 1e-6)).sum()"
      ],
      "execution_count": 274,
      "outputs": []
    },
    {
      "cell_type": "code",
      "metadata": {
        "id": "T5AfuKDHAI4d"
      },
      "source": [
        "def compute_info_gain_ratio(X,y,attr,split_point_list):\n",
        "    '''\n",
        "        计算连续型变量中特定属性的单个分裂点的信息增益\n",
        "        \n",
        "        X：包含属性的数据集, DataFrame类型\n",
        "        y：包含目标值的数据集, Series类型\n",
        "        attr: 要计算信息增益的属性，字符串类型\n",
        "        split_point_lst: 分割点，float类型\n",
        "        \n",
        "        返回值：信息增益率计算结果，float类型; 最优划分点：float类型\n",
        "        \n",
        "    '''\n",
        "    # print(\"{}'s splited points' list：{}\".format(attr,split_point_list))\n",
        "\n",
        "    best_split_point = 0.0\n",
        "    best_info_gain = 0.0\n",
        "    split_entropy = 0.0\n",
        "    if len(split_point_list) == 0:\n",
        "      return 0, None\n",
        "\n",
        "    else:\n",
        "      for split_point in split_point_list:\n",
        "          lower_index_boolean = X[attr] < split_point\n",
        "          lower_X = X[lower_index_boolean]\n",
        "          lower_y = y[lower_index_boolean]\n",
        "          \n",
        "          upper_index_boolean = X[attr] > split_point\n",
        "          upper_X = X[upper_index_boolean]\n",
        "          upper_y = y[upper_index_boolean]\n",
        "          \n",
        "          Ent_D = compute_entropy(y)\n",
        "          \n",
        "          lower_p = len(lower_X) / len(X)\n",
        "          upper_p = len(upper_X ) / len(X)\n",
        "\n",
        "          lower_result = lower_p * compute_entropy(lower_y)\n",
        "          upper_result = upper_p * compute_entropy(upper_y)   \n",
        "          \n",
        "          info_gain = Ent_D - (lower_result + upper_result)\n",
        "\n",
        "          categorized_column = get_discrete_variables(X,attr,split_point)\n",
        "\n",
        "          split_entropy = compute_entropy(categorized_column)\n",
        "\n",
        "          if info_gain > best_info_gain:\n",
        "              best_info_gain = info_gain\n",
        "              best_split_point = split_point\n",
        "            \n",
        "      info_gain_ratio = best_info_gain / split_entropy\n",
        "\n",
        "      return info_gain_ratio, best_split_point"
      ],
      "execution_count": 275,
      "outputs": []
    },
    {
      "cell_type": "code",
      "metadata": {
        "id": "UbBH2Rb-AMqC"
      },
      "source": [
        "class TreeNode:\n",
        "  def __init__(self,node_name=\"\",default_decision=None):\n",
        "    self.children = {}\n",
        "    self.split_point = 0.0\n",
        "    self.name = node_name\n",
        "    self.split_attr = None\n",
        "    self.default_decision = default_decision\n",
        "    self.decision = None\n",
        "\n",
        "  def pretty_print(self,prefix=''):\n",
        "    if self.split_attr is not None:\n",
        "      for k,v in self.children.items():\n",
        "        v.pretty_print(f\"{prefix}: When {self.split_attr} is {k}\")\n",
        "    else:\n",
        "      print(f\"{prefix}:{self.decision}\")\n",
        "\n",
        "  def make(self,X,y):\n",
        "    if self.default_decision is None:\n",
        "      self.default_decision = y.mode()[0]\n",
        "\n",
        "    # print(\"Node name of this sub datasets: \",self.name)\n",
        "    # print(\"Input values:\")\n",
        "    # print(X)\n",
        "    # print(\"\\nTarget values:\")\n",
        "    # print(y)\n",
        "\n",
        "    if len(X) == 0:\n",
        "      self.decision = self.default_decision\n",
        "      # print(\"Specially determining the decision ->\", self.decision)\n",
        "      # print(\"------------------------------------------------------------------------------------------------------------\")\n",
        "      return\n",
        "\n",
        "    else:\n",
        "      target_unique_values = y.unique()\n",
        "      if len(target_unique_values) == 1:\n",
        "        self.decision = target_unique_values[0]\n",
        "        # print(\"Determining the decision ->\", self.decision)\n",
        "        # print(\"------------------------------------------------------------------------------------------------------------\")\n",
        "        return\n",
        "\n",
        "      else:\n",
        "        max_infoGain_rate = 0.0\n",
        "        best_split_point = 0.0\n",
        "        best_split_point_list = []\n",
        "        # print()\n",
        "        for attr in X.keys():\n",
        "          split_point_list = get_split_pointSet(X[attr])\n",
        "          if len(split_point_list) == 0:\n",
        "            # No split point here, which means that this attritbue has only one type of value\n",
        "            continue\n",
        "\n",
        "          else:\n",
        "            infoGain_rate,splited_point = compute_info_gain_ratio(X,y,attr,split_point_list)\n",
        "            if infoGain_rate > max_infoGain_rate:\n",
        "              max_infoGain_rate = infoGain_rate\n",
        "              self.split_attr = attr\n",
        "              best_split_point_list = split_point_list\n",
        "              best_split_point = splited_point\n",
        "\n",
        "        self.split_point = best_split_point\n",
        "\n",
        "        if self.split_point != 0.0:\n",
        "\n",
        "          X_copy = X.copy()\n",
        "          discrete_class = self.split_attr + '-group'\n",
        "          X_copy.loc[:,discrete_class] = get_discrete_variables(X_copy,self.split_attr,self.split_point)\n",
        "          # print(\"\\nSplited by {} attribute，its information gain ratio：{}\".format(self.split_attr,max_infoGain_rate)) \n",
        "          \n",
        "          for value in X_copy[discrete_class].unique():\n",
        "            index_boolean = X_copy[discrete_class] == value\n",
        "            self.children[value] = TreeNode(node_name = value, default_decision=self.default_decision)\n",
        "            \n",
        "            # print(\"{}'s splited points' list：{}\".format(self.split_attr,best_split_point_list))\n",
        "            # print(\"Still can't determine the decision, child's node is split below:\")\n",
        "            self.children[value].make(X[index_boolean],y[index_boolean])\n",
        "        \n",
        "        else:\n",
        "          # print('All attributes have no information gain (ratio)')\n",
        "          y_mode = y.mode()\n",
        "\n",
        "          if len(y_mode) == 1:\n",
        "            better_decision = y_mode[0]\n",
        "            # print(\"Choosing the better decision ->\",better_decision)\n",
        "            # print(\"------------------------------------------------------------------------------------------------------------\")\n",
        "            self.decision = better_decision\n",
        "\n",
        "          else:\n",
        "            decision = y_mode[0]\n",
        "            # print(\"Can not choose the better decision, these two samples have the sample inputs but different output\")\n",
        "            # print(\"Just Choose the decision ->\",decision)\n",
        "            # print(\"------------------------------------------------------------------------------------------------------------\")\n",
        "            self.decision = decision\n",
        "          return\n"
      ],
      "execution_count": 276,
      "outputs": []
    },
    {
      "cell_type": "code",
      "metadata": {
        "id": "E4cbT3UYATvx"
      },
      "source": [
        "class TreeC4_5:\n",
        "  def __init__(self):\n",
        "    self.root = None\n",
        "\n",
        "  def fit(self,X,y):\n",
        "    self.root = TreeNode()\n",
        "    self.root.make(X,y)\n",
        "\n",
        "  def predict(self,samples):\n",
        "    decision_list = []\n",
        "    for sample_index in range(len(samples)):\n",
        "      sample = samples.iloc[sample_index]\n",
        "      decision = self.make_decision(sample) \n",
        "      decision_list.append(decision)\n",
        "    return np.array(decision_list)\n",
        "\n",
        "  def make_decision(self,sample):\n",
        "    current_node = self.root\n",
        "    while current_node.decision is None:\n",
        "      attribute_to_split = current_node.split_attr\n",
        "      attribute_value = sample[attribute_to_split]\n",
        "      # print(\"Testing: \",attribute_to_split,\"->\",attribute_value)\n",
        "      \n",
        "      if attribute_value > current_node.split_point:\n",
        "        next_attr = current_node.split_attr + ' > ' + str(current_node.split_point)\n",
        "      \n",
        "      else:\n",
        "        next_attr = current_node.split_attr + ' < ' + str(current_node.split_point)\n",
        "          \n",
        "      current_node = current_node.children[next_attr]\n",
        "\n",
        "    # print(\"Decision-> {}\\n\".format(current_node.decision))\n",
        "    return current_node.decision"
      ],
      "execution_count": 277,
      "outputs": []
    },
    {
      "cell_type": "code",
      "metadata": {
        "id": "axVJ-bjJAVrr"
      },
      "source": [
        "dt4_5 = TreeC4_5()\n",
        "dt4_5.fit(X_train,y_train)"
      ],
      "execution_count": 278,
      "outputs": []
    },
    {
      "cell_type": "code",
      "metadata": {
        "id": "U2C3m1mjho4P",
        "outputId": "371b2c45-06a4-4d7c-a9a5-371f8335d300",
        "colab": {
          "base_uri": "https://localhost:8080/",
          "height": 171
        }
      },
      "source": [
        "dt4_5.root.pretty_print('Details of splited node')"
      ],
      "execution_count": 279,
      "outputs": [
        {
          "output_type": "stream",
          "text": [
            "Details of splited node: When petal length is petal length < 2.45:Iris-setosa\n",
            "Details of splited node: When petal length is petal length > 2.45: When petal length is petal length < 4.85: When petal width is petal width < 1.65:Iris-versicolor\n",
            "Details of splited node: When petal length is petal length > 2.45: When petal length is petal length < 4.85: When petal width is petal width > 1.65:Iris-virginica\n",
            "Details of splited node: When petal length is petal length > 2.45: When petal length is petal length > 4.85: When petal length is petal length < 5.15: When petal width is petal width > 1.7000000000000002:Iris-virginica\n",
            "Details of splited node: When petal length is petal length > 2.45: When petal length is petal length > 4.85: When petal length is petal length < 5.15: When petal width is petal width < 1.7000000000000002: When sepal length is sepal length < 6.6: When petal width is petal width < 1.55:Iris-virginica\n",
            "Details of splited node: When petal length is petal length > 2.45: When petal length is petal length > 4.85: When petal length is petal length < 5.15: When petal width is petal width < 1.7000000000000002: When sepal length is sepal length < 6.6: When petal width is petal width > 1.55:Iris-versicolor\n",
            "Details of splited node: When petal length is petal length > 2.45: When petal length is petal length > 4.85: When petal length is petal length < 5.15: When petal width is petal width < 1.7000000000000002: When sepal length is sepal length > 6.6:Iris-versicolor\n",
            "Details of splited node: When petal length is petal length > 2.45: When petal length is petal length > 4.85: When petal length is petal length > 5.15:Iris-virginica\n"
          ],
          "name": "stdout"
        }
      ]
    },
    {
      "cell_type": "code",
      "metadata": {
        "id": "jP0Ruz2yAXmi",
        "outputId": "005c0f26-a8ad-45bd-d622-cf59828bed56",
        "colab": {
          "base_uri": "https://localhost:8080/",
          "height": 34
        }
      },
      "source": [
        "decisions = dt4_5.predict(X_test)\n",
        "results = decisions == y_test\n",
        "accuracy = sum(results) / len(results)\n",
        "print(\"Accuracy: \", accuracy)"
      ],
      "execution_count": 280,
      "outputs": [
        {
          "output_type": "stream",
          "text": [
            "Accuracy:  0.96\n"
          ],
          "name": "stdout"
        }
      ]
    },
    {
      "cell_type": "code",
      "metadata": {
        "id": "Ve__C2haFfV3",
        "outputId": "88634a31-0568-42bd-aa08-4572c98ebceb",
        "colab": {
          "base_uri": "https://localhost:8080/",
          "height": 50
        }
      },
      "source": [
        "in_errs = []\n",
        "out_errs = []\n",
        "train_size = 0.3\n",
        "for random_seed in range(10):\n",
        "    # Randomly split training/test data\n",
        "    X_trn, X_val, y_trn, y_val = train_test_split(\n",
        "        X, y, train_size=train_size, random_state=random_seed)\n",
        "    \n",
        "    # Re-make a data model in each experiment\n",
        "    dt = TreeC4_5()\n",
        "    dt.fit(X_trn, y_trn) \n",
        "    \n",
        "    # append the in/out error rates to the corresponding book-keeping\n",
        "    in_sample_error_rate = np.sum((dt.predict(X_trn) != y_trn)) / len(y_trn)\n",
        "    out_sample_error_rate = np.sum((dt.predict(X_val) != y_val)) / len(y_trn)\n",
        "    # arrays\n",
        "    # in_errs.append(\"Insert your code here\")\n",
        "    in_errs.append(in_sample_error_rate)\n",
        "    # out_errs.append(\"Insert your code here\")\n",
        "    out_errs.append(out_sample_error_rate)\n",
        "\n",
        "in_errs = np.array(in_errs)\n",
        "out_errs = np.array(out_errs)\n",
        "print(f\"in_errs: mean {in_errs.mean():.2f}, std {in_errs.std():.2f}\")\n",
        "print(f\"out_errs: mean {out_errs.mean():.2f}, std {out_errs.std():.2f}\")"
      ],
      "execution_count": 286,
      "outputs": [
        {
          "output_type": "stream",
          "text": [
            "in_errs: mean 0.00, std 0.00\n",
            "out_errs: mean 0.16, std 0.07\n"
          ],
          "name": "stdout"
        }
      ]
    },
    {
      "cell_type": "code",
      "metadata": {
        "id": "pUAZLvv0YuL_"
      },
      "source": [
        "from sklearn import tree \n",
        "import graphviz   \n",
        "\n",
        "clf = tree.DecisionTreeClassifier(criterion=\"entropy\",random_state=35)\n",
        "clf = clf.fit(X_train,y_train)"
      ],
      "execution_count": 287,
      "outputs": []
    },
    {
      "cell_type": "code",
      "metadata": {
        "id": "o6bIkNWmf_er",
        "outputId": "474a062d-11fb-439a-af9d-4719f2e6d74d",
        "colab": {
          "base_uri": "https://localhost:8080/",
          "height": 34
        }
      },
      "source": [
        "decisions = clf.predict(X_test)\n",
        "result = [decision == target for decision,target in zip(decisions,y_test)]\n",
        "accuracy = sum(result)/len(result)\n",
        "print('Accuracy:',accuracy)"
      ],
      "execution_count": 288,
      "outputs": [
        {
          "output_type": "stream",
          "text": [
            "Accuracy: 0.94\n"
          ],
          "name": "stdout"
        }
      ]
    },
    {
      "cell_type": "code",
      "metadata": {
        "id": "oLORK-q-KVot",
        "outputId": "0ec5b615-4390-45de-a039-ca5ecb9a03c0",
        "colab": {
          "base_uri": "https://localhost:8080/",
          "height": 50
        }
      },
      "source": [
        "in_errs = []\n",
        "out_errs = []\n",
        "train_size = 0.3\n",
        "for random_seed in range(10):\n",
        "    # Randomly split training/test data\n",
        "    X_trn, X_val, y_trn, y_val = train_test_split(\n",
        "        X, y, train_size=train_size, random_state=random_seed)\n",
        "    \n",
        "    # Re-make a data model in each experiment\n",
        "    dt = tree.DecisionTreeClassifier(criterion=\"entropy\")\n",
        "    dt.fit(X_trn, y_trn) \n",
        "    \n",
        "    # append the in/out error rates to the corresponding book-keeping\n",
        "    in_sample_error_rate = np.sum((dt.predict(X_trn) != y_trn)) / len(y_trn)\n",
        "    out_sample_error_rate = np.sum((dt.predict(X_val) != y_val)) / len(y_trn)\n",
        "    # arrays\n",
        "    # in_errs.append(\"Insert your code here\")\n",
        "    in_errs.append(in_sample_error_rate)\n",
        "    # out_errs.append(\"Insert your code here\")\n",
        "    out_errs.append(out_sample_error_rate)\n",
        "\n",
        "in_errs = np.array(in_errs)\n",
        "out_errs = np.array(out_errs)\n",
        "print(f\"in_errs: mean {in_errs.mean():.2f}, std {in_errs.std():.2f}\")\n",
        "print(f\"out_errs: mean {out_errs.mean():.2f}, std {out_errs.std():.2f}\")"
      ],
      "execution_count": 289,
      "outputs": [
        {
          "output_type": "stream",
          "text": [
            "in_errs: mean 0.00, std 0.00\n",
            "out_errs: mean 0.12, std 0.03\n"
          ],
          "name": "stdout"
        }
      ]
    },
    {
      "cell_type": "code",
      "metadata": {
        "id": "cEiYQHeKWUV1",
        "outputId": "060717e0-b833-401e-ca71-78d94e1728a8",
        "colab": {
          "base_uri": "https://localhost:8080/",
          "height": 656
        }
      },
      "source": [
        "dot_data = tree.export_graphviz(clf,out_file=None,feature_names=list(X_train.columns.values),filled=True,rounded=True,special_characters=True)\n",
        "graphOfTree = graphviz.Source(dot_data)\n",
        "graphOfTree"
      ],
      "execution_count": 290,
      "outputs": [
        {
          "output_type": "execute_result",
          "data": {
            "text/plain": [
              "<graphviz.files.Source at 0x7f39c9d377f0>"
            ],
            "image/svg+xml": "<?xml version=\"1.0\" encoding=\"UTF-8\" standalone=\"no\"?>\n<!DOCTYPE svg PUBLIC \"-//W3C//DTD SVG 1.1//EN\"\n \"http://www.w3.org/Graphics/SVG/1.1/DTD/svg11.dtd\">\n<!-- Generated by graphviz version 2.40.1 (20161225.0304)\n -->\n<!-- Title: Tree Pages: 1 -->\n<svg width=\"350pt\" height=\"477pt\"\n viewBox=\"0.00 0.00 350.00 477.00\" xmlns=\"http://www.w3.org/2000/svg\" xmlns:xlink=\"http://www.w3.org/1999/xlink\">\n<g id=\"graph0\" class=\"graph\" transform=\"scale(1 1) rotate(0) translate(4 473)\">\n<title>Tree</title>\n<polygon fill=\"#ffffff\" stroke=\"transparent\" points=\"-4,4 -4,-473 346,-473 346,4 -4,4\"/>\n<!-- 0 -->\n<g id=\"node1\" class=\"node\">\n<title>0</title>\n<path fill=\"#fdf6f0\" stroke=\"#000000\" d=\"M192.5,-469C192.5,-469 76.5,-469 76.5,-469 70.5,-469 64.5,-463 64.5,-457 64.5,-457 64.5,-413 64.5,-413 64.5,-407 70.5,-401 76.5,-401 76.5,-401 192.5,-401 192.5,-401 198.5,-401 204.5,-407 204.5,-413 204.5,-413 204.5,-457 204.5,-457 204.5,-463 198.5,-469 192.5,-469\"/>\n<text text-anchor=\"start\" x=\"82\" y=\"-453.8\" font-family=\"Helvetica,sans-Serif\" font-size=\"14.00\" fill=\"#000000\">petal width ≤ 0.8</text>\n<text text-anchor=\"start\" x=\"83.5\" y=\"-438.8\" font-family=\"Helvetica,sans-Serif\" font-size=\"14.00\" fill=\"#000000\">entropy = 1.581</text>\n<text text-anchor=\"start\" x=\"86.5\" y=\"-423.8\" font-family=\"Helvetica,sans-Serif\" font-size=\"14.00\" fill=\"#000000\">samples = 100</text>\n<text text-anchor=\"start\" x=\"72.5\" y=\"-408.8\" font-family=\"Helvetica,sans-Serif\" font-size=\"14.00\" fill=\"#000000\">value = [37, 32, 31]</text>\n</g>\n<!-- 1 -->\n<g id=\"node2\" class=\"node\">\n<title>1</title>\n<path fill=\"#e58139\" stroke=\"#000000\" d=\"M112,-357.5C112,-357.5 13,-357.5 13,-357.5 7,-357.5 1,-351.5 1,-345.5 1,-345.5 1,-316.5 1,-316.5 1,-310.5 7,-304.5 13,-304.5 13,-304.5 112,-304.5 112,-304.5 118,-304.5 124,-310.5 124,-316.5 124,-316.5 124,-345.5 124,-345.5 124,-351.5 118,-357.5 112,-357.5\"/>\n<text text-anchor=\"start\" x=\"20\" y=\"-342.3\" font-family=\"Helvetica,sans-Serif\" font-size=\"14.00\" fill=\"#000000\">entropy = 0.0</text>\n<text text-anchor=\"start\" x=\"18.5\" y=\"-327.3\" font-family=\"Helvetica,sans-Serif\" font-size=\"14.00\" fill=\"#000000\">samples = 37</text>\n<text text-anchor=\"start\" x=\"9\" y=\"-312.3\" font-family=\"Helvetica,sans-Serif\" font-size=\"14.00\" fill=\"#000000\">value = [37, 0, 0]</text>\n</g>\n<!-- 0&#45;&gt;1 -->\n<g id=\"edge1\" class=\"edge\">\n<title>0&#45;&gt;1</title>\n<path fill=\"none\" stroke=\"#000000\" d=\"M110.9245,-400.9465C103.1463,-389.7113 94.4861,-377.2021 86.6645,-365.9043\"/>\n<polygon fill=\"#000000\" stroke=\"#000000\" points=\"89.4452,-363.7719 80.8753,-357.5422 83.6898,-367.7564 89.4452,-363.7719\"/>\n<text text-anchor=\"middle\" x=\"76.4032\" y=\"-378.4389\" font-family=\"Helvetica,sans-Serif\" font-size=\"14.00\" fill=\"#000000\">True</text>\n</g>\n<!-- 2 -->\n<g id=\"node3\" class=\"node\">\n<title>2</title>\n<path fill=\"#f9fefb\" stroke=\"#000000\" d=\"M261,-365C261,-365 154,-365 154,-365 148,-365 142,-359 142,-353 142,-353 142,-309 142,-309 142,-303 148,-297 154,-297 154,-297 261,-297 261,-297 267,-297 273,-303 273,-309 273,-309 273,-353 273,-353 273,-359 267,-365 261,-365\"/>\n<text text-anchor=\"start\" x=\"151\" y=\"-349.8\" font-family=\"Helvetica,sans-Serif\" font-size=\"14.00\" fill=\"#000000\">petal width ≤ 1.65</text>\n<text text-anchor=\"start\" x=\"165\" y=\"-334.8\" font-family=\"Helvetica,sans-Serif\" font-size=\"14.00\" fill=\"#000000\">entropy = 1.0</text>\n<text text-anchor=\"start\" x=\"163.5\" y=\"-319.8\" font-family=\"Helvetica,sans-Serif\" font-size=\"14.00\" fill=\"#000000\">samples = 63</text>\n<text text-anchor=\"start\" x=\"150\" y=\"-304.8\" font-family=\"Helvetica,sans-Serif\" font-size=\"14.00\" fill=\"#000000\">value = [0, 32, 31]</text>\n</g>\n<!-- 0&#45;&gt;2 -->\n<g id=\"edge2\" class=\"edge\">\n<title>0&#45;&gt;2</title>\n<path fill=\"none\" stroke=\"#000000\" d=\"M158.4029,-400.9465C164.5791,-392.1475 171.3038,-382.5672 177.739,-373.3993\"/>\n<polygon fill=\"#000000\" stroke=\"#000000\" points=\"180.6629,-375.3258 183.5434,-365.13 174.9334,-371.3041 180.6629,-375.3258\"/>\n<text text-anchor=\"middle\" x=\"187.8563\" y=\"-386.0552\" font-family=\"Helvetica,sans-Serif\" font-size=\"14.00\" fill=\"#000000\">False</text>\n</g>\n<!-- 3 -->\n<g id=\"node4\" class=\"node\">\n<title>3</title>\n<path fill=\"#45e789\" stroke=\"#000000\" d=\"M189,-261C189,-261 78,-261 78,-261 72,-261 66,-255 66,-249 66,-249 66,-205 66,-205 66,-199 72,-193 78,-193 78,-193 189,-193 189,-193 195,-193 201,-199 201,-205 201,-205 201,-249 201,-249 201,-255 195,-261 189,-261\"/>\n<text text-anchor=\"start\" x=\"74\" y=\"-245.8\" font-family=\"Helvetica,sans-Serif\" font-size=\"14.00\" fill=\"#000000\">petal length ≤ 4.95</text>\n<text text-anchor=\"start\" x=\"82.5\" y=\"-230.8\" font-family=\"Helvetica,sans-Serif\" font-size=\"14.00\" fill=\"#000000\">entropy = 0.323</text>\n<text text-anchor=\"start\" x=\"89.5\" y=\"-215.8\" font-family=\"Helvetica,sans-Serif\" font-size=\"14.00\" fill=\"#000000\">samples = 34</text>\n<text text-anchor=\"start\" x=\"80\" y=\"-200.8\" font-family=\"Helvetica,sans-Serif\" font-size=\"14.00\" fill=\"#000000\">value = [0, 32, 2]</text>\n</g>\n<!-- 2&#45;&gt;3 -->\n<g id=\"edge3\" class=\"edge\">\n<title>2&#45;&gt;3</title>\n<path fill=\"none\" stroke=\"#000000\" d=\"M183.2696,-296.9465C177.0088,-288.1475 170.192,-278.5672 163.6687,-269.3993\"/>\n<polygon fill=\"#000000\" stroke=\"#000000\" points=\"166.4342,-267.2488 157.7848,-261.13 160.7306,-271.3071 166.4342,-267.2488\"/>\n</g>\n<!-- 8 -->\n<g id=\"node9\" class=\"node\">\n<title>8</title>\n<path fill=\"#8139e5\" stroke=\"#000000\" d=\"M330,-253.5C330,-253.5 231,-253.5 231,-253.5 225,-253.5 219,-247.5 219,-241.5 219,-241.5 219,-212.5 219,-212.5 219,-206.5 225,-200.5 231,-200.5 231,-200.5 330,-200.5 330,-200.5 336,-200.5 342,-206.5 342,-212.5 342,-212.5 342,-241.5 342,-241.5 342,-247.5 336,-253.5 330,-253.5\"/>\n<text text-anchor=\"start\" x=\"238\" y=\"-238.3\" font-family=\"Helvetica,sans-Serif\" font-size=\"14.00\" fill=\"#000000\">entropy = 0.0</text>\n<text text-anchor=\"start\" x=\"236.5\" y=\"-223.3\" font-family=\"Helvetica,sans-Serif\" font-size=\"14.00\" fill=\"#000000\">samples = 29</text>\n<text text-anchor=\"start\" x=\"227\" y=\"-208.3\" font-family=\"Helvetica,sans-Serif\" font-size=\"14.00\" fill=\"#000000\">value = [0, 0, 29]</text>\n</g>\n<!-- 2&#45;&gt;8 -->\n<g id=\"edge8\" class=\"edge\">\n<title>2&#45;&gt;8</title>\n<path fill=\"none\" stroke=\"#000000\" d=\"M231.4029,-296.9465C239.2892,-285.7113 248.0697,-273.2021 255.9998,-261.9043\"/>\n<polygon fill=\"#000000\" stroke=\"#000000\" points=\"258.9889,-263.7379 261.8694,-253.5422 253.2595,-259.7163 258.9889,-263.7379\"/>\n</g>\n<!-- 4 -->\n<g id=\"node5\" class=\"node\">\n<title>4</title>\n<path fill=\"#39e581\" stroke=\"#000000\" d=\"M111,-149.5C111,-149.5 12,-149.5 12,-149.5 6,-149.5 0,-143.5 0,-137.5 0,-137.5 0,-108.5 0,-108.5 0,-102.5 6,-96.5 12,-96.5 12,-96.5 111,-96.5 111,-96.5 117,-96.5 123,-102.5 123,-108.5 123,-108.5 123,-137.5 123,-137.5 123,-143.5 117,-149.5 111,-149.5\"/>\n<text text-anchor=\"start\" x=\"19\" y=\"-134.3\" font-family=\"Helvetica,sans-Serif\" font-size=\"14.00\" fill=\"#000000\">entropy = 0.0</text>\n<text text-anchor=\"start\" x=\"17.5\" y=\"-119.3\" font-family=\"Helvetica,sans-Serif\" font-size=\"14.00\" fill=\"#000000\">samples = 31</text>\n<text text-anchor=\"start\" x=\"8\" y=\"-104.3\" font-family=\"Helvetica,sans-Serif\" font-size=\"14.00\" fill=\"#000000\">value = [0, 31, 0]</text>\n</g>\n<!-- 3&#45;&gt;4 -->\n<g id=\"edge4\" class=\"edge\">\n<title>3&#45;&gt;4</title>\n<path fill=\"none\" stroke=\"#000000\" d=\"M109.9245,-192.9465C102.1463,-181.7113 93.4861,-169.2021 85.6645,-157.9043\"/>\n<polygon fill=\"#000000\" stroke=\"#000000\" points=\"88.4452,-155.7719 79.8753,-149.5422 82.6898,-159.7564 88.4452,-155.7719\"/>\n</g>\n<!-- 5 -->\n<g id=\"node6\" class=\"node\">\n<title>5</title>\n<path fill=\"#c09cf2\" stroke=\"#000000\" d=\"M258,-157C258,-157 153,-157 153,-157 147,-157 141,-151 141,-145 141,-145 141,-101 141,-101 141,-95 147,-89 153,-89 153,-89 258,-89 258,-89 264,-89 270,-95 270,-101 270,-101 270,-145 270,-145 270,-151 264,-157 258,-157\"/>\n<text text-anchor=\"start\" x=\"149\" y=\"-141.8\" font-family=\"Helvetica,sans-Serif\" font-size=\"14.00\" fill=\"#000000\">petal width ≤ 1.55</text>\n<text text-anchor=\"start\" x=\"154.5\" y=\"-126.8\" font-family=\"Helvetica,sans-Serif\" font-size=\"14.00\" fill=\"#000000\">entropy = 0.918</text>\n<text text-anchor=\"start\" x=\"166\" y=\"-111.8\" font-family=\"Helvetica,sans-Serif\" font-size=\"14.00\" fill=\"#000000\">samples = 3</text>\n<text text-anchor=\"start\" x=\"156\" y=\"-96.8\" font-family=\"Helvetica,sans-Serif\" font-size=\"14.00\" fill=\"#000000\">value = [0, 1, 2]</text>\n</g>\n<!-- 3&#45;&gt;5 -->\n<g id=\"edge5\" class=\"edge\">\n<title>3&#45;&gt;5</title>\n<path fill=\"none\" stroke=\"#000000\" d=\"M157.0755,-192.9465C163.1671,-184.1475 169.7996,-174.5672 176.1466,-165.3993\"/>\n<polygon fill=\"#000000\" stroke=\"#000000\" points=\"179.0571,-167.3442 181.8715,-157.13 173.3017,-163.3597 179.0571,-167.3442\"/>\n</g>\n<!-- 6 -->\n<g id=\"node7\" class=\"node\">\n<title>6</title>\n<path fill=\"#8139e5\" stroke=\"#000000\" d=\"M184,-53C184,-53 93,-53 93,-53 87,-53 81,-47 81,-41 81,-41 81,-12 81,-12 81,-6 87,0 93,0 93,0 184,0 184,0 190,0 196,-6 196,-12 196,-12 196,-41 196,-41 196,-47 190,-53 184,-53\"/>\n<text text-anchor=\"start\" x=\"96\" y=\"-37.8\" font-family=\"Helvetica,sans-Serif\" font-size=\"14.00\" fill=\"#000000\">entropy = 0.0</text>\n<text text-anchor=\"start\" x=\"99\" y=\"-22.8\" font-family=\"Helvetica,sans-Serif\" font-size=\"14.00\" fill=\"#000000\">samples = 2</text>\n<text text-anchor=\"start\" x=\"89\" y=\"-7.8\" font-family=\"Helvetica,sans-Serif\" font-size=\"14.00\" fill=\"#000000\">value = [0, 0, 2]</text>\n</g>\n<!-- 5&#45;&gt;6 -->\n<g id=\"edge6\" class=\"edge\">\n<title>5&#45;&gt;6</title>\n<path fill=\"none\" stroke=\"#000000\" d=\"M181.8783,-88.9777C175.7113,-80.0954 169.0539,-70.5067 162.8499,-61.5711\"/>\n<polygon fill=\"#000000\" stroke=\"#000000\" points=\"165.6497,-59.4666 157.0715,-53.2485 159.8997,-63.4589 165.6497,-59.4666\"/>\n</g>\n<!-- 7 -->\n<g id=\"node8\" class=\"node\">\n<title>7</title>\n<path fill=\"#39e581\" stroke=\"#000000\" d=\"M317,-53C317,-53 226,-53 226,-53 220,-53 214,-47 214,-41 214,-41 214,-12 214,-12 214,-6 220,0 226,0 226,0 317,0 317,0 323,0 329,-6 329,-12 329,-12 329,-41 329,-41 329,-47 323,-53 317,-53\"/>\n<text text-anchor=\"start\" x=\"229\" y=\"-37.8\" font-family=\"Helvetica,sans-Serif\" font-size=\"14.00\" fill=\"#000000\">entropy = 0.0</text>\n<text text-anchor=\"start\" x=\"232\" y=\"-22.8\" font-family=\"Helvetica,sans-Serif\" font-size=\"14.00\" fill=\"#000000\">samples = 1</text>\n<text text-anchor=\"start\" x=\"222\" y=\"-7.8\" font-family=\"Helvetica,sans-Serif\" font-size=\"14.00\" fill=\"#000000\">value = [0, 1, 0]</text>\n</g>\n<!-- 5&#45;&gt;7 -->\n<g id=\"edge7\" class=\"edge\">\n<title>5&#45;&gt;7</title>\n<path fill=\"none\" stroke=\"#000000\" d=\"M228.7691,-88.9777C234.844,-80.0954 241.4021,-70.5067 247.5135,-61.5711\"/>\n<polygon fill=\"#000000\" stroke=\"#000000\" points=\"250.4493,-63.4785 253.2057,-53.2485 244.6714,-59.5267 250.4493,-63.4785\"/>\n</g>\n</g>\n</svg>\n"
          },
          "metadata": {
            "tags": []
          },
          "execution_count": 290
        }
      ]
    },
    {
      "cell_type": "code",
      "metadata": {
        "id": "kcbd2sRNETSH"
      },
      "source": [
        ""
      ],
      "execution_count": 285,
      "outputs": []
    }
  ]
}